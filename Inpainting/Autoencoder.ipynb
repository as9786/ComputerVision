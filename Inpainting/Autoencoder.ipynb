{
  "nbformat": 4,
  "nbformat_minor": 0,
  "metadata": {
    "colab": {
      "name": "Autoencoder.ipynb",
      "provenance": [],
      "collapsed_sections": [],
      "mount_file_id": "1iiuwIXLzedI3lg4wNWcDfZWp-5Cdo86z",
      "authorship_tag": "ABX9TyN8mDvbqxhH8EHU5KNFyeJw",
      "include_colab_link": true
    },
    "kernelspec": {
      "name": "python3",
      "display_name": "Python 3"
    },
    "language_info": {
      "name": "python"
    }
  },
  "cells": [
    {
      "cell_type": "markdown",
      "metadata": {
        "id": "view-in-github",
        "colab_type": "text"
      },
      "source": [
        "<a href=\"https://colab.research.google.com/github/as9786/ComputerVision/blob/main/Inpainting/Autoencoder.ipynb\" target=\"_parent\"><img src=\"https://colab.research.google.com/assets/colab-badge.svg\" alt=\"Open In Colab\"/></a>"
      ]
    },
    {
      "cell_type": "code",
      "execution_count": null,
      "metadata": {
        "id": "YHIXaC_c5TmQ"
      },
      "outputs": [],
      "source": [
        "from tensorflow.keras.models import Model\n",
        "from tensorflow.keras.layers import Dense, Input\n",
        "from tensorflow.keras.datasets import mnist\n",
        "from tensorflow.keras.regularizers import l1\n",
        "from tensorflow.keras.optimizers import Adam"
      ]
    },
    {
      "cell_type": "code",
      "source": [
        "import matplotlib.pyplot as plt\n",
        "import pandas as pd\n",
        "import numpy as np"
      ],
      "metadata": {
        "id": "BomBmtU-5sVw"
      },
      "execution_count": null,
      "outputs": []
    },
    {
      "cell_type": "code",
      "source": [
        "(x_train,y_train),(x_test,y_test) = mnist.load_data()\n",
        "\n",
        "x_train1 = x_train.astype('float32')/255.0\n",
        "x_test1 = x_test.astype('float32')/255.0\n",
        "x_train = x_train1.reshape((60000,28*28))\n",
        "x_test = x_test1.reshape((10000,28*28))"
      ],
      "metadata": {
        "colab": {
          "base_uri": "https://localhost:8080/"
        },
        "id": "H2lM7Qps55ha",
        "outputId": "7ebd5969-d827-462b-8f92-0e3c7d5db36f"
      },
      "execution_count": null,
      "outputs": [
        {
          "output_type": "stream",
          "name": "stdout",
          "text": [
            "Downloading data from https://storage.googleapis.com/tensorflow/tf-keras-datasets/mnist.npz\n",
            "11493376/11490434 [==============================] - 0s 0us/step\n",
            "11501568/11490434 [==============================] - 0s 0us/step\n"
          ]
        }
      ]
    },
    {
      "cell_type": "code",
      "source": [
        "print(x_train.shape)\n",
        "print(x_test.shape)"
      ],
      "metadata": {
        "colab": {
          "base_uri": "https://localhost:8080/"
        },
        "id": "YRLiLxb06MDZ",
        "outputId": "458517d1-7159-45c7-8b86-f3ba1e25df1e"
      },
      "execution_count": null,
      "outputs": [
        {
          "output_type": "stream",
          "name": "stdout",
          "text": [
            "(60000, 784)\n",
            "(10000, 784)\n"
          ]
        }
      ]
    },
    {
      "cell_type": "markdown",
      "source": [
        "# Autoencoder 구축"
      ],
      "metadata": {
        "id": "av6IVbZQ6RzV"
      }
    },
    {
      "cell_type": "code",
      "source": [
        "input_size = 784\n",
        "hidden_size = 128\n",
        "code_size = 32\n",
        "\n",
        "# Encoder\n",
        "input_img = Input(shape=(input_size,))\n",
        "hidden_1 = Dense(hidden_size,activation='relu')(input_img)\n",
        "code = Dense(code_size,activation='relu')(hidden_1)\n",
        "\n",
        "#Decoder\n",
        "hidden_2 = Dense(hidden_size,activation='relu')(code)\n",
        "output_img = Dense(input_size,activation='sigmoid')(hidden_2)\n",
        "\n",
        "autoencoder = Model(input_img,output_img)"
      ],
      "metadata": {
        "id": "27YYCxUt6Qoh"
      },
      "execution_count": null,
      "outputs": []
    },
    {
      "cell_type": "code",
      "source": [
        " autoencoder.compile(optimizer='adam',loss='mse')\n",
        " autoencoder.fit(x_train,x_train,epochs=3)"
      ],
      "metadata": {
        "colab": {
          "base_uri": "https://localhost:8080/"
        },
        "id": "5nSmnBbt7iW4",
        "outputId": "3650ff97-aeed-4a42-ffc1-a23f84fba5e6"
      },
      "execution_count": null,
      "outputs": [
        {
          "output_type": "stream",
          "name": "stdout",
          "text": [
            "Epoch 1/3\n",
            "1875/1875 [==============================] - 9s 4ms/step - loss: 0.0256\n",
            "Epoch 2/3\n",
            "1875/1875 [==============================] - 8s 4ms/step - loss: 0.0130\n",
            "Epoch 3/3\n",
            "1875/1875 [==============================] - 8s 4ms/step - loss: 0.0111\n"
          ]
        },
        {
          "output_type": "execute_result",
          "data": {
            "text/plain": [
              "<keras.callbacks.History at 0x7fd09f61bc10>"
            ]
          },
          "metadata": {},
          "execution_count": 11
        }
      ]
    },
    {
      "cell_type": "code",
      "source": [
        "decoded_imgs = autoencoder.predict(x_test)"
      ],
      "metadata": {
        "id": "SLJZBy4g8F-7"
      },
      "execution_count": null,
      "outputs": []
    },
    {
      "cell_type": "code",
      "source": [
        "decoded_imgs = decoded_imgs.reshape((10000,28,28))"
      ],
      "metadata": {
        "id": "29xTSS1i8QQc"
      },
      "execution_count": null,
      "outputs": []
    },
    {
      "cell_type": "code",
      "source": [
        "decoded_imgs.shape"
      ],
      "metadata": {
        "colab": {
          "base_uri": "https://localhost:8080/"
        },
        "id": "F3X2Ki-v8TIr",
        "outputId": "95952e5f-da6d-4182-cf58-718cce010b11"
      },
      "execution_count": null,
      "outputs": [
        {
          "output_type": "execute_result",
          "data": {
            "text/plain": [
              "(10000, 28, 28)"
            ]
          },
          "metadata": {},
          "execution_count": 14
        }
      ]
    },
    {
      "cell_type": "markdown",
      "source": [
        "# 원래 이미지와 복원된 이미지 비교"
      ],
      "metadata": {
        "id": "P72eLyj48YJN"
      }
    },
    {
      "cell_type": "code",
      "source": [
        "n = 10\n",
        "plt.figure(figsize=(20,4))\n",
        "for i in range(n):\n",
        "    #display original\n",
        "    ax = plt.subplot(2,n,i+1)\n",
        "    plt.imshow(x_test1[i])\n",
        "    plt.title('original')\n",
        "    plt.gray()\n",
        "    ax.get_xaxis().set_visible(False)\n",
        "    ax.get_yaxis().set_visible(False)\n",
        "\n",
        "    #display reconstruction\n",
        "    ax = plt.subplot(2,n,i+1+n)\n",
        "    plt.imshow(decoded_imgs[i])\n",
        "    plt.title('reconstruction')\n",
        "    plt.gray()\n",
        "    ax.get_xaxis().set_visible(False)\n",
        "    ax.get_yaxis().set_visible(False)\n",
        "plt.show()"
      ],
      "metadata": {
        "colab": {
          "base_uri": "https://localhost:8080/",
          "height": 161
        },
        "id": "aGATCK0O8UMy",
        "outputId": "c325eb4b-5028-40d8-e860-6091e941422b"
      },
      "execution_count": null,
      "outputs": [
        {
          "output_type": "display_data",
          "data": {
            "text/plain": [
              "<Figure size 1440x288 with 20 Axes>"
            ],
            "image/png": "[encoded data removed]"
          },
          "metadata": {
            "needs_background": "light"
          }
        }
      ]
    },
    {
      "cell_type": "markdown",
      "source": [
        "#저차원 벡터(representation vector)를 이용한 분류"
      ],
      "metadata": {
        "id": "5USGRIj99LrP"
      }
    },
    {
      "cell_type": "code",
      "source": [
        "encoder = Model(inputs=input_img,outputs=code) "
      ],
      "metadata": {
        "id": "oKmgkqaz9BTS"
      },
      "execution_count": null,
      "outputs": []
    },
    {
      "cell_type": "code",
      "source": [
        "#encoder\n",
        "X_train_encode = encoder.predict(x_train)\n",
        "#encoder the test data\n",
        "X_test_encode = encoder.predict(x_test)"
      ],
      "metadata": {
        "id": "Uk985dIF9TsE"
      },
      "execution_count": null,
      "outputs": []
    },
    {
      "cell_type": "code",
      "source": [
        "X_train_encode.shape"
      ],
      "metadata": {
        "colab": {
          "base_uri": "https://localhost:8080/"
        },
        "id": "zcuBtA3h9a1N",
        "outputId": "cdd1a448-1020-48b2-921c-b558ab517bdb"
      },
      "execution_count": null,
      "outputs": [
        {
          "output_type": "execute_result",
          "data": {
            "text/plain": [
              "(60000, 32)"
            ]
          },
          "metadata": {},
          "execution_count": 18
        }
      ]
    },
    {
      "cell_type": "code",
      "source": [
        "from tensorflow.keras import layers\n",
        "from tensorflow.keras import models"
      ],
      "metadata": {
        "id": "N2hOgQce9ctd"
      },
      "execution_count": null,
      "outputs": []
    },
    {
      "cell_type": "code",
      "source": [
        "model = models.Sequential()\n",
        "model.add(Dense(128,activation='relu',input_shape=(X_train_encode.shape[1],)))\n",
        "model.add(Dense(10,activation='softmax'))\n",
        "model.summary()"
      ],
      "metadata": {
        "colab": {
          "base_uri": "https://localhost:8080/"
        },
        "id": "ta64UmGe9rF2",
        "outputId": "100fbc5b-33d2-4028-c03b-89bb165d7a8f"
      },
      "execution_count": null,
      "outputs": [
        {
          "output_type": "stream",
          "name": "stdout",
          "text": [
            "Model: \"sequential_2\"\n",
            "_________________________________________________________________\n",
            " Layer (type)                Output Shape              Param #   \n",
            "=================================================================\n",
            " dense_9 (Dense)             (None, 128)               4224      \n",
            "                                                                 \n",
            " dense_10 (Dense)            (None, 10)                1290      \n",
            "                                                                 \n",
            "=================================================================\n",
            "Total params: 5,514\n",
            "Trainable params: 5,514\n",
            "Non-trainable params: 0\n",
            "_________________________________________________________________\n"
          ]
        }
      ]
    },
    {
      "cell_type": "code",
      "source": [
        "from tensorflow.keras.utils import to_categorical"
      ],
      "metadata": {
        "id": "SByZ5dEx97IS"
      },
      "execution_count": null,
      "outputs": []
    },
    {
      "cell_type": "code",
      "source": [
        "y_train_one_hot = to_categorical(y_train)\n",
        "y_test_one_hot = to_categorical(y_test)"
      ],
      "metadata": {
        "id": "RHchK8dG-HKY"
      },
      "execution_count": null,
      "outputs": []
    },
    {
      "cell_type": "code",
      "source": [
        "from tensorflow.keras import optimizers\n",
        "rmsprop = optimizers.RMSprop(learning_rate=0.001)"
      ],
      "metadata": {
        "id": "Zyh7TL-U-LqU"
      },
      "execution_count": null,
      "outputs": []
    },
    {
      "cell_type": "code",
      "source": [
        "model.compile(optimizer=rmsprop,loss='categorical_crossentropy',metrics=['accuracy'])"
      ],
      "metadata": {
        "id": "iBCRL_vh-Wy5"
      },
      "execution_count": null,
      "outputs": []
    },
    {
      "cell_type": "code",
      "source": [
        "history = model.fit(X_train_encode,y_train_one_hot,epochs=10,batch_size=128,validation_split=0.2)"
      ],
      "metadata": {
        "colab": {
          "base_uri": "https://localhost:8080/"
        },
        "id": "tX3V6Fmt-c7B",
        "outputId": "5b00c566-8513-4597-eb6a-28ec7b4cc906"
      },
      "execution_count": null,
      "outputs": [
        {
          "output_type": "stream",
          "name": "stdout",
          "text": [
            "Epoch 1/10\n",
            "375/375 [==============================] - 2s 3ms/step - loss: 0.7356 - accuracy: 0.7733 - val_loss: 0.3492 - val_accuracy: 0.8958\n",
            "Epoch 2/10\n",
            "375/375 [==============================] - 1s 2ms/step - loss: 0.3568 - accuracy: 0.8902 - val_loss: 0.2822 - val_accuracy: 0.9149\n",
            "Epoch 3/10\n",
            "375/375 [==============================] - 1s 2ms/step - loss: 0.2956 - accuracy: 0.9089 - val_loss: 0.2448 - val_accuracy: 0.9292\n",
            "Epoch 4/10\n",
            "375/375 [==============================] - 1s 2ms/step - loss: 0.2514 - accuracy: 0.9234 - val_loss: 0.2252 - val_accuracy: 0.9332\n",
            "Epoch 5/10\n",
            "375/375 [==============================] - 1s 2ms/step - loss: 0.2200 - accuracy: 0.9339 - val_loss: 0.1868 - val_accuracy: 0.9457\n",
            "Epoch 6/10\n",
            "375/375 [==============================] - 1s 2ms/step - loss: 0.1970 - accuracy: 0.9409 - val_loss: 0.1764 - val_accuracy: 0.9500\n",
            "Epoch 7/10\n",
            "375/375 [==============================] - 1s 3ms/step - loss: 0.1784 - accuracy: 0.9456 - val_loss: 0.1662 - val_accuracy: 0.9521\n",
            "Epoch 8/10\n",
            "375/375 [==============================] - 1s 2ms/step - loss: 0.1645 - accuracy: 0.9497 - val_loss: 0.1538 - val_accuracy: 0.9540\n",
            "Epoch 9/10\n",
            "375/375 [==============================] - 1s 2ms/step - loss: 0.1523 - accuracy: 0.9530 - val_loss: 0.1642 - val_accuracy: 0.9526\n",
            "Epoch 10/10\n",
            "375/375 [==============================] - 1s 2ms/step - loss: 0.1441 - accuracy: 0.9561 - val_loss: 0.1433 - val_accuracy: 0.9589\n"
          ]
        }
      ]
    }
  ]
}