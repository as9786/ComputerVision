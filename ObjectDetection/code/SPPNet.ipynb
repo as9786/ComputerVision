{
  "nbformat": 4,
  "nbformat_minor": 0,
  "metadata": {
    "colab": {
      "provenance": [],
      "authorship_tag": "ABX9TyOHbBeUXfoFvPc/aM8f86Xu",
      "include_colab_link": true
    },
    "kernelspec": {
      "name": "python3",
      "display_name": "Python 3"
    },
    "language_info": {
      "name": "python"
    },
    "accelerator": "GPU",
    "gpuClass": "standard"
  },
  "cells": [
    {
      "cell_type": "markdown",
      "metadata": {
        "id": "view-in-github",
        "colab_type": "text"
      },
      "source": [
        "<a href=\"https://colab.research.google.com/github/as9786/ComputerVision/blob/main/ObjectDetection/code/SPPNet.ipynb\" target=\"_parent\"><img src=\"https://colab.research.google.com/assets/colab-badge.svg\" alt=\"Open In Colab\"/></a>"
      ]
    },
    {
      "cell_type": "markdown",
      "source": [
        "# SPPNet"
      ],
      "metadata": {
        "id": "TcbxNGqLV9kd"
      }
    },
    {
      "cell_type": "markdown",
      "source": [
        "## Bin"
      ],
      "metadata": {
        "id": "0YMBKBpkWj5n"
      }
    },
    {
      "cell_type": "code",
      "source": [
        "import math\n",
        "import tensorflow as tf\n",
        "import torch\n",
        "import torch.nn as nn\n",
        "from torch.nn import init\n",
        "import functools\n",
        "from torch.autograd import Variable\n",
        "import numpy as np\n",
        "import torch.nn.functional as F"
      ],
      "metadata": {
        "id": "XMDyD2ZNBLkC"
      },
      "execution_count": 59,
      "outputs": []
    },
    {
      "cell_type": "code",
      "source": [
        "a = tf.random.uniform(shape = [1,13,13,1])\n",
        "a_shape = a.shape\n",
        "a_shape[1]"
      ],
      "metadata": {
        "id": "_azsIXHmBLeR",
        "colab": {
          "base_uri": "https://localhost:8080/"
        },
        "outputId": "e829ba00-050b-42f4-bfbd-fd896240356b"
      },
      "execution_count": 53,
      "outputs": [
        {
          "output_type": "execute_result",
          "data": {
            "text/plain": [
              "13"
            ]
          },
          "metadata": {},
          "execution_count": 53
        }
      ]
    },
    {
      "cell_type": "code",
      "source": [
        "def window_stride(shape,bin=3):\n",
        "  s = shape[1]\n",
        "  window_size = math.ceil(s / bin)\n",
        "  stride = math.floor(s / bin)\n",
        "  return window_size, stride"
      ],
      "metadata": {
        "id": "Ad33gAMaSdLO"
      },
      "execution_count": 54,
      "outputs": []
    },
    {
      "cell_type": "code",
      "source": [
        "w, s = window_stride(a_shape)\n",
        "w,s"
      ],
      "metadata": {
        "colab": {
          "base_uri": "https://localhost:8080/"
        },
        "id": "i2KC2QudTTZR",
        "outputId": "6a8d347a-9415-4720-c0e5-82fa36101eb4"
      },
      "execution_count": 55,
      "outputs": [
        {
          "output_type": "execute_result",
          "data": {
            "text/plain": [
              "(5, 4)"
            ]
          },
          "metadata": {},
          "execution_count": 55
        }
      ]
    },
    {
      "cell_type": "code",
      "source": [
        "pool = tf.keras.layers.MaxPooling2D(pool_size=w,strides=s)"
      ],
      "metadata": {
        "id": "Uw2V_O2fBaTY"
      },
      "execution_count": 56,
      "outputs": []
    },
    {
      "cell_type": "code",
      "source": [
        "pool(a).shape"
      ],
      "metadata": {
        "colab": {
          "base_uri": "https://localhost:8080/"
        },
        "id": "bL01ZnfuT36y",
        "outputId": "1ec91954-2f8f-4987-8aae-781eaf5e62b2"
      },
      "execution_count": 57,
      "outputs": [
        {
          "output_type": "execute_result",
          "data": {
            "text/plain": [
              "TensorShape([1, 3, 3, 1])"
            ]
          },
          "metadata": {},
          "execution_count": 57
        }
      ]
    },
    {
      "cell_type": "code",
      "source": [
        "b = tf.random.uniform(shape = [1,20,20,1])\n",
        "b_shape = b.shape\n",
        "b_shape[1]"
      ],
      "metadata": {
        "colab": {
          "base_uri": "https://localhost:8080/"
        },
        "outputId": "66c264f0-ef5e-4927-c8c9-8a3227fb254c",
        "id": "q0JTDSKXWImO"
      },
      "execution_count": null,
      "outputs": [
        {
          "output_type": "execute_result",
          "data": {
            "text/plain": [
              "20"
            ]
          },
          "metadata": {},
          "execution_count": 48
        }
      ]
    },
    {
      "cell_type": "code",
      "source": [
        "def window_stride(shape,bin=3):\n",
        "  s = shape[1]\n",
        "  window_size = math.ceil(s / bin)\n",
        "  stride = math.floor(s / bin)\n",
        "  return window_size, stride"
      ],
      "metadata": {
        "id": "CizwTsRaWImQ"
      },
      "execution_count": null,
      "outputs": []
    },
    {
      "cell_type": "code",
      "source": [
        "w, s = window_stride(b_shape)\n",
        "w,s"
      ],
      "metadata": {
        "colab": {
          "base_uri": "https://localhost:8080/"
        },
        "outputId": "4210956d-c38b-4cc2-b7e3-6e826e05bfb1",
        "id": "5R5qmg6-WImQ"
      },
      "execution_count": null,
      "outputs": [
        {
          "output_type": "execute_result",
          "data": {
            "text/plain": [
              "(7, 6)"
            ]
          },
          "metadata": {},
          "execution_count": 50
        }
      ]
    },
    {
      "cell_type": "code",
      "source": [
        "pool2 = tf.keras.layers.MaxPooling2D(pool_size=w,strides=s)"
      ],
      "metadata": {
        "id": "gyzVJDCDWImR"
      },
      "execution_count": null,
      "outputs": []
    },
    {
      "cell_type": "code",
      "source": [
        "pool2(b).shape"
      ],
      "metadata": {
        "colab": {
          "base_uri": "https://localhost:8080/"
        },
        "outputId": "ae057e90-1bd8-43cf-beaf-6e2e67ba1adf",
        "id": "KXkRI9-aWImR"
      },
      "execution_count": null,
      "outputs": [
        {
          "output_type": "execute_result",
          "data": {
            "text/plain": [
              "TensorShape([1, 3, 3, 1])"
            ]
          },
          "metadata": {},
          "execution_count": 52
        }
      ]
    },
    {
      "cell_type": "markdown",
      "source": [
        "## SPP layer"
      ],
      "metadata": {
        "id": "7ni0m3oUWiF6"
      }
    },
    {
      "cell_type": "code",
      "source": [
        "def spatial_pyramid_pool(self,previous_conv, num_sample, previous_conv_size, out_pool_size):  \n",
        "    \n",
        "    for i in range(len(out_pool_size)):\n",
        "        \n",
        "        h_wid = int(math.ceil(previous_conv_size[0] / out_pool_size[i]))\n",
        "        w_wid = int(math.ceil(previous_conv_size[1] / out_pool_size[i]))\n",
        "        h_pad = (h_wid*out_pool_size[i] - previous_conv_size[0] + 1)/2\n",
        "        w_pad = (w_wid*out_pool_size[i] - previous_conv_size[1] + 1)/2\n",
        "        maxpool = nn.MaxPool2d((h_wid, w_wid), stride=(h_wid, w_wid), padding=(h_pad, w_pad))\n",
        "        x = maxpool(previous_conv)\n",
        "        if(i == 0):\n",
        "            spp = x.view(num_sample,-1)   \n",
        "        else:\n",
        "            spp = torch.cat((spp,x.view(num_sample,-1)), 1)\n",
        "    return spp"
      ],
      "metadata": {
        "id": "gJvbZ6zqWiy1"
      },
      "execution_count": 58,
      "outputs": []
    },
    {
      "cell_type": "code",
      "source": [
        "class SPP_NET(nn.Module):\n",
        "\n",
        "    def __init__(self, opt, input_nc, ndf=64,  gpu_ids=[]):\n",
        "        super(SPP_NET, self).__init__()\n",
        "        self.gpu_ids = gpu_ids\n",
        "        self.output_num = [4,2,1]\n",
        "        \n",
        "        self.conv1 = nn.Conv2d(input_nc, ndf, 4, 2, 1, bias=False)\n",
        "        \n",
        "        self.conv2 = nn.Conv2d(ndf, ndf * 2, 4, 1, 1, bias=False)\n",
        "        self.BN1 = nn.BatchNorm2d(ndf * 2)\n",
        "\n",
        "        self.conv3 = nn.Conv2d(ndf * 2, ndf * 4, 4, 1, 1, bias=False)\n",
        "        self.BN2 = nn.BatchNorm2d(ndf * 4)\n",
        "\n",
        "        self.conv4 = nn.Conv2d(ndf * 4, ndf * 8, 4, 1, 1, bias=False)\n",
        "        self.BN3 = nn.BatchNorm2d(ndf * 8)\n",
        "\n",
        "        self.conv5 = nn.Conv2d(ndf * 8, 64, 4, 1, 0, bias=False)\n",
        "        self.fc1 = nn.Linear(10752,4096)\n",
        "        self.fc2 = nn.Linear(4096,1000)\n",
        "\n",
        "    def forward(self,x):\n",
        "        x = self.conv1(x)\n",
        "        x = self.LReLU1(x)\n",
        "\n",
        "        x = self.conv2(x)\n",
        "        x = F.leaky_relu(self.BN1(x))\n",
        "\n",
        "        x = self.conv3(x)\n",
        "        x = F.leaky_relu(self.BN2(x))\n",
        "        \n",
        "        x = self.conv4(x)\n",
        "       \n",
        "        spp = spatial_pyramid_pool(x,1,[int(x.size(2)),int(x.size(3))],self.output_num)\n",
        "        # print(spp.size())\n",
        "        fc1 = self.fc1(spp)\n",
        "        fc2 = self.fc2(fc1)\n",
        "        s = nn.Sigmoid()\n",
        "        output = s(fc2)\n",
        "        return output"
      ],
      "metadata": {
        "id": "c1BItNmVWzBf"
      },
      "execution_count": null,
      "outputs": []
    }
  ]
}