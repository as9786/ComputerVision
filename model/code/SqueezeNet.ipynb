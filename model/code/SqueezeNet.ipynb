{
  "nbformat": 4,
  "nbformat_minor": 0,
  "metadata": {
    "colab": {
      "provenance": [],
      "authorship_tag": "ABX9TyPP5DXubZ9VXt/nT90l0mBr",
      "include_colab_link": true
    },
    "kernelspec": {
      "name": "python3",
      "display_name": "Python 3"
    },
    "language_info": {
      "name": "python"
    },
    "accelerator": "GPU",
    "gpuClass": "standard"
  },
  "cells": [
    {
      "cell_type": "markdown",
      "metadata": {
        "id": "view-in-github",
        "colab_type": "text"
      },
      "source": [
        "<a href=\"https://colab.research.google.com/github/as9786/ComputerVision/blob/main/model/code/SqueezeNet.ipynb\" target=\"_parent\"><img src=\"https://colab.research.google.com/assets/colab-badge.svg\" alt=\"Open In Colab\"/></a>"
      ]
    },
    {
      "cell_type": "markdown",
      "source": [
        "# Module"
      ],
      "metadata": {
        "id": "L0qUK9B0eiMF"
      }
    },
    {
      "cell_type": "code",
      "execution_count": 1,
      "metadata": {
        "id": "jklCnXmEeaU8"
      },
      "outputs": [],
      "source": [
        "import numpy as np\n",
        "import tensorflow as tf"
      ]
    },
    {
      "cell_type": "markdown",
      "source": [
        "# Data"
      ],
      "metadata": {
        "id": "JvE3diG9em3H"
      }
    },
    {
      "cell_type": "code",
      "source": [
        "(X_train,y_train),(X_test,y_test) = tf.keras.datasets.mnist.load_data()"
      ],
      "metadata": {
        "colab": {
          "base_uri": "https://localhost:8080/"
        },
        "id": "uqKiGWBuemKw",
        "outputId": "484bbb6f-cf70-4f70-e175-da8475cf154f"
      },
      "execution_count": 2,
      "outputs": [
        {
          "output_type": "stream",
          "name": "stdout",
          "text": [
            "Downloading data from https://storage.googleapis.com/tensorflow/tf-keras-datasets/mnist.npz\n",
            "11490434/11490434 [==============================] - 2s 0us/step\n"
          ]
        }
      ]
    },
    {
      "cell_type": "code",
      "source": [
        "X_train.shape"
      ],
      "metadata": {
        "colab": {
          "base_uri": "https://localhost:8080/"
        },
        "id": "uBqF2MJlesDT",
        "outputId": "e72d21c5-d650-414a-fa12-e00e81972dd7"
      },
      "execution_count": 3,
      "outputs": [
        {
          "output_type": "execute_result",
          "data": {
            "text/plain": [
              "(60000, 28, 28)"
            ]
          },
          "metadata": {},
          "execution_count": 3
        }
      ]
    },
    {
      "cell_type": "markdown",
      "source": [
        "# Data preprocessing"
      ],
      "metadata": {
        "id": "AJ4RgY7jeyuQ"
      }
    },
    {
      "cell_type": "code",
      "source": [
        "X_train = X_train.reshape(X_train.shape[0],28,28,1).astype('float32')\n",
        "X_test = X_test.reshape(X_test.shape[0],28,28,1).astype('float32')"
      ],
      "metadata": {
        "id": "-G2bb6F-e_yf"
      },
      "execution_count": 10,
      "outputs": []
    },
    {
      "cell_type": "code",
      "source": [
        "# Noramliazation\n",
        "X_train /= 255.\n",
        "X_test /= 255."
      ],
      "metadata": {
        "id": "8JbzthPAeuNX"
      },
      "execution_count": 11,
      "outputs": []
    },
    {
      "cell_type": "code",
      "source": [
        "# one hot encoding\n",
        "y_train_one_hot = tf.keras.utils.to_categorical(y_train)\n",
        "y_test_one_hot = tf.keras.utils.to_categorical(y_test)"
      ],
      "metadata": {
        "id": "_JK4JrOOe01S"
      },
      "execution_count": 12,
      "outputs": []
    },
    {
      "cell_type": "code",
      "source": [
        "y_train_one_hot[0]"
      ],
      "metadata": {
        "colab": {
          "base_uri": "https://localhost:8080/"
        },
        "id": "Ww_Y7FE1iPc6",
        "outputId": "76636709-c1bc-45c5-d83e-0f6a2dab6875"
      },
      "execution_count": 14,
      "outputs": [
        {
          "output_type": "execute_result",
          "data": {
            "text/plain": [
              "array([0., 0., 0., 0., 0., 1., 0., 0., 0., 0.], dtype=float32)"
            ]
          },
          "metadata": {},
          "execution_count": 14
        }
      ]
    },
    {
      "cell_type": "markdown",
      "source": [
        "# 모형"
      ],
      "metadata": {
        "id": "fMgoJekoiZzC"
      }
    },
    {
      "cell_type": "code",
      "source": [
        "def fire_module(x, n_of_squeeze_layer,bypass=False):\n",
        "  n_of_expand_layer = 4 * n_of_squeeze_layer\n",
        "  squeeze = tf.keras.layers.Conv2D(n_of_squeeze_layer,(1,1),activation='relu',padding='same')(x)\n",
        "  expand_1x1 = tf.keras.layers.Conv2D(n_of_expand_layer,(1,1),activation='relu',padding='same')(squeeze)\n",
        "  expand_3x3 = tf.keras.layers.Conv2D(n_of_expand_layer,(3,3),activation='relu',padding='same')(squeeze)\n",
        "\n",
        "  x_re = tf.keras.layers.Concatenate(axis=1)([expand_1x1,expand_3x3])\n",
        "\n",
        "  if bypass:\n",
        "    x_re = tf.keras.layers.Add()([x_re,x])\n",
        "\n",
        "  return x_re"
      ],
      "metadata": {
        "id": "GXzCn_h3iRSx"
      },
      "execution_count": 18,
      "outputs": []
    },
    {
      "cell_type": "code",
      "source": [
        "# SqueezeNet\n",
        "input = tf.keras.layers.Input(shape=(28,28,1))\n",
        "x = tf.keras.layers.Conv2D(64,kernel_size=(3,3),activation='relu',strides=(2,2),padding='same')(input)\n",
        "x = tf.keras.layers.MaxPooling2D(pool_size=(3,3),strides=(2,2))(x)\n",
        "\n",
        "x = fire_module(x,16)\n",
        "x = fire_module(x,16)\n",
        "x = tf.keras.layers.MaxPooling2D(pool_size=(3,3),strides=(2,2))(x)\n",
        "\n",
        "x = fire_module(x,64)\n",
        "x = fire_module(x,64)\n",
        "\n",
        "# classification\n",
        "x = tf.keras.layers.Conv2D(10,(1,1),strides=(1,1))(x)\n",
        "x = tf.keras.layers.GlobalAveragePooling2D()(x)\n",
        "output = tf.keras.layers.Activation('softmax')(x)\n",
        "\n",
        "model = tf.keras.models.Model(input,output)"
      ],
      "metadata": {
        "id": "c_RiP__rjdNO"
      },
      "execution_count": 24,
      "outputs": []
    },
    {
      "cell_type": "code",
      "source": [
        "model.summary()"
      ],
      "metadata": {
        "colab": {
          "base_uri": "https://localhost:8080/"
        },
        "id": "oeK-KcvOj6x2",
        "outputId": "bd20a870-24f4-479c-e58d-fb174e32297d"
      },
      "execution_count": 25,
      "outputs": [
        {
          "output_type": "stream",
          "name": "stdout",
          "text": [
            "Model: \"model_1\"\n",
            "__________________________________________________________________________________________________\n",
            " Layer (type)                   Output Shape         Param #     Connected to                     \n",
            "==================================================================================================\n",
            " input_4 (InputLayer)           [(None, 28, 28, 1)]  0           []                               \n",
            "                                                                                                  \n",
            " conv2d_34 (Conv2D)             (None, 14, 14, 64)   640         ['input_4[0][0]']                \n",
            "                                                                                                  \n",
            " max_pooling2d_6 (MaxPooling2D)  (None, 6, 6, 64)    0           ['conv2d_34[0][0]']              \n",
            "                                                                                                  \n",
            " conv2d_35 (Conv2D)             (None, 6, 6, 16)     1040        ['max_pooling2d_6[0][0]']        \n",
            "                                                                                                  \n",
            " conv2d_36 (Conv2D)             (None, 6, 6, 64)     1088        ['conv2d_35[0][0]']              \n",
            "                                                                                                  \n",
            " conv2d_37 (Conv2D)             (None, 6, 6, 64)     9280        ['conv2d_35[0][0]']              \n",
            "                                                                                                  \n",
            " concatenate_10 (Concatenate)   (None, 12, 6, 64)    0           ['conv2d_36[0][0]',              \n",
            "                                                                  'conv2d_37[0][0]']              \n",
            "                                                                                                  \n",
            " conv2d_38 (Conv2D)             (None, 12, 6, 16)    1040        ['concatenate_10[0][0]']         \n",
            "                                                                                                  \n",
            " conv2d_39 (Conv2D)             (None, 12, 6, 64)    1088        ['conv2d_38[0][0]']              \n",
            "                                                                                                  \n",
            " conv2d_40 (Conv2D)             (None, 12, 6, 64)    9280        ['conv2d_38[0][0]']              \n",
            "                                                                                                  \n",
            " concatenate_11 (Concatenate)   (None, 24, 6, 64)    0           ['conv2d_39[0][0]',              \n",
            "                                                                  'conv2d_40[0][0]']              \n",
            "                                                                                                  \n",
            " max_pooling2d_7 (MaxPooling2D)  (None, 11, 2, 64)   0           ['concatenate_11[0][0]']         \n",
            "                                                                                                  \n",
            " conv2d_41 (Conv2D)             (None, 11, 2, 64)    4160        ['max_pooling2d_7[0][0]']        \n",
            "                                                                                                  \n",
            " conv2d_42 (Conv2D)             (None, 11, 2, 256)   16640       ['conv2d_41[0][0]']              \n",
            "                                                                                                  \n",
            " conv2d_43 (Conv2D)             (None, 11, 2, 256)   147712      ['conv2d_41[0][0]']              \n",
            "                                                                                                  \n",
            " concatenate_12 (Concatenate)   (None, 22, 2, 256)   0           ['conv2d_42[0][0]',              \n",
            "                                                                  'conv2d_43[0][0]']              \n",
            "                                                                                                  \n",
            " conv2d_44 (Conv2D)             (None, 22, 2, 64)    16448       ['concatenate_12[0][0]']         \n",
            "                                                                                                  \n",
            " conv2d_45 (Conv2D)             (None, 22, 2, 256)   16640       ['conv2d_44[0][0]']              \n",
            "                                                                                                  \n",
            " conv2d_46 (Conv2D)             (None, 22, 2, 256)   147712      ['conv2d_44[0][0]']              \n",
            "                                                                                                  \n",
            " concatenate_13 (Concatenate)   (None, 44, 2, 256)   0           ['conv2d_45[0][0]',              \n",
            "                                                                  'conv2d_46[0][0]']              \n",
            "                                                                                                  \n",
            " conv2d_47 (Conv2D)             (None, 44, 2, 10)    2570        ['concatenate_13[0][0]']         \n",
            "                                                                                                  \n",
            " global_average_pooling2d_1 (Gl  (None, 10)          0           ['conv2d_47[0][0]']              \n",
            " obalAveragePooling2D)                                                                            \n",
            "                                                                                                  \n",
            " activation_1 (Activation)      (None, 10)           0           ['global_average_pooling2d_1[0][0\n",
            "                                                                 ]']                              \n",
            "                                                                                                  \n",
            "==================================================================================================\n",
            "Total params: 375,338\n",
            "Trainable params: 375,338\n",
            "Non-trainable params: 0\n",
            "__________________________________________________________________________________________________\n"
          ]
        }
      ]
    },
    {
      "cell_type": "markdown",
      "source": [
        "# 학습"
      ],
      "metadata": {
        "id": "Ka5QMhGklOaX"
      }
    },
    {
      "cell_type": "code",
      "source": [
        "model.compile(optimizer='adam',loss='categorical_crossentropy',metrics=['accuracy'])"
      ],
      "metadata": {
        "id": "UENO15RvlLLH"
      },
      "execution_count": 28,
      "outputs": []
    },
    {
      "cell_type": "code",
      "source": [
        "model.fit(X_train,y_train_one_hot,epochs=50,batch_size=128,validation_split=0.2)"
      ],
      "metadata": {
        "colab": {
          "base_uri": "https://localhost:8080/"
        },
        "id": "xOxjZ6bElg0J",
        "outputId": "4333d1ca-4b13-476c-ee13-992c3f1062bc"
      },
      "execution_count": 29,
      "outputs": [
        {
          "output_type": "stream",
          "name": "stdout",
          "text": [
            "Epoch 1/50\n",
            "375/375 [==============================] - 5s 12ms/step - loss: 1.1486 - accuracy: 0.5699 - val_loss: 0.4519 - val_accuracy: 0.8442\n",
            "Epoch 2/50\n",
            "375/375 [==============================] - 4s 11ms/step - loss: 0.2664 - accuracy: 0.9158 - val_loss: 0.1383 - val_accuracy: 0.9573\n",
            "Epoch 3/50\n",
            "375/375 [==============================] - 4s 11ms/step - loss: 0.1403 - accuracy: 0.9568 - val_loss: 0.0940 - val_accuracy: 0.9706\n",
            "Epoch 4/50\n",
            "375/375 [==============================] - 4s 12ms/step - loss: 0.1011 - accuracy: 0.9687 - val_loss: 0.1049 - val_accuracy: 0.9698\n",
            "Epoch 5/50\n",
            "375/375 [==============================] - 4s 11ms/step - loss: 0.0839 - accuracy: 0.9737 - val_loss: 0.0679 - val_accuracy: 0.9793\n",
            "Epoch 6/50\n",
            "375/375 [==============================] - 4s 12ms/step - loss: 0.0675 - accuracy: 0.9792 - val_loss: 0.0629 - val_accuracy: 0.9784\n",
            "Epoch 7/50\n",
            "375/375 [==============================] - 4s 12ms/step - loss: 0.0610 - accuracy: 0.9811 - val_loss: 0.0785 - val_accuracy: 0.9758\n",
            "Epoch 8/50\n",
            "375/375 [==============================] - 4s 12ms/step - loss: 0.0546 - accuracy: 0.9832 - val_loss: 0.0505 - val_accuracy: 0.9839\n",
            "Epoch 9/50\n",
            "375/375 [==============================] - 4s 11ms/step - loss: 0.0482 - accuracy: 0.9844 - val_loss: 0.0533 - val_accuracy: 0.9843\n",
            "Epoch 10/50\n",
            "375/375 [==============================] - 4s 11ms/step - loss: 0.0421 - accuracy: 0.9867 - val_loss: 0.0514 - val_accuracy: 0.9843\n",
            "Epoch 11/50\n",
            "375/375 [==============================] - 4s 12ms/step - loss: 0.0386 - accuracy: 0.9875 - val_loss: 0.0639 - val_accuracy: 0.9798\n",
            "Epoch 12/50\n",
            "375/375 [==============================] - 4s 12ms/step - loss: 0.0357 - accuracy: 0.9886 - val_loss: 0.0644 - val_accuracy: 0.9812\n",
            "Epoch 13/50\n",
            "375/375 [==============================] - 4s 11ms/step - loss: 0.0315 - accuracy: 0.9899 - val_loss: 0.0436 - val_accuracy: 0.9870\n",
            "Epoch 14/50\n",
            "375/375 [==============================] - 4s 11ms/step - loss: 0.0310 - accuracy: 0.9898 - val_loss: 0.0548 - val_accuracy: 0.9838\n",
            "Epoch 15/50\n",
            "375/375 [==============================] - 4s 11ms/step - loss: 0.0267 - accuracy: 0.9913 - val_loss: 0.0638 - val_accuracy: 0.9807\n",
            "Epoch 16/50\n",
            "375/375 [==============================] - 4s 11ms/step - loss: 0.0260 - accuracy: 0.9916 - val_loss: 0.0522 - val_accuracy: 0.9846\n",
            "Epoch 17/50\n",
            "375/375 [==============================] - 4s 11ms/step - loss: 0.0268 - accuracy: 0.9914 - val_loss: 0.0603 - val_accuracy: 0.9822\n",
            "Epoch 18/50\n",
            "375/375 [==============================] - 4s 12ms/step - loss: 0.0246 - accuracy: 0.9921 - val_loss: 0.0422 - val_accuracy: 0.9869\n",
            "Epoch 19/50\n",
            "375/375 [==============================] - 4s 11ms/step - loss: 0.0228 - accuracy: 0.9925 - val_loss: 0.0584 - val_accuracy: 0.9831\n",
            "Epoch 20/50\n",
            "375/375 [==============================] - 4s 11ms/step - loss: 0.0208 - accuracy: 0.9932 - val_loss: 0.0441 - val_accuracy: 0.9865\n",
            "Epoch 21/50\n",
            "375/375 [==============================] - 4s 12ms/step - loss: 0.0205 - accuracy: 0.9934 - val_loss: 0.0399 - val_accuracy: 0.9878\n",
            "Epoch 22/50\n",
            "375/375 [==============================] - 4s 12ms/step - loss: 0.0164 - accuracy: 0.9947 - val_loss: 0.0487 - val_accuracy: 0.9872\n",
            "Epoch 23/50\n",
            "375/375 [==============================] - 4s 11ms/step - loss: 0.0153 - accuracy: 0.9951 - val_loss: 0.0485 - val_accuracy: 0.9864\n",
            "Epoch 24/50\n",
            "375/375 [==============================] - 4s 11ms/step - loss: 0.0175 - accuracy: 0.9940 - val_loss: 0.0545 - val_accuracy: 0.9841\n",
            "Epoch 25/50\n",
            "375/375 [==============================] - 4s 11ms/step - loss: 0.0174 - accuracy: 0.9942 - val_loss: 0.0401 - val_accuracy: 0.9890\n",
            "Epoch 26/50\n",
            "375/375 [==============================] - 4s 12ms/step - loss: 0.0152 - accuracy: 0.9947 - val_loss: 0.1011 - val_accuracy: 0.9735\n",
            "Epoch 27/50\n",
            "375/375 [==============================] - 4s 12ms/step - loss: 0.0157 - accuracy: 0.9949 - val_loss: 0.0471 - val_accuracy: 0.9871\n",
            "Epoch 28/50\n",
            "375/375 [==============================] - 4s 11ms/step - loss: 0.0158 - accuracy: 0.9948 - val_loss: 0.0401 - val_accuracy: 0.9883\n",
            "Epoch 29/50\n",
            "375/375 [==============================] - 4s 12ms/step - loss: 0.0110 - accuracy: 0.9964 - val_loss: 0.0507 - val_accuracy: 0.9858\n",
            "Epoch 30/50\n",
            "375/375 [==============================] - 4s 11ms/step - loss: 0.0116 - accuracy: 0.9960 - val_loss: 0.0712 - val_accuracy: 0.9840\n",
            "Epoch 31/50\n",
            "375/375 [==============================] - 4s 11ms/step - loss: 0.0103 - accuracy: 0.9969 - val_loss: 0.0480 - val_accuracy: 0.9887\n",
            "Epoch 32/50\n",
            "375/375 [==============================] - 4s 11ms/step - loss: 0.0095 - accuracy: 0.9971 - val_loss: 0.0788 - val_accuracy: 0.9806\n",
            "Epoch 33/50\n",
            "375/375 [==============================] - 4s 11ms/step - loss: 0.0134 - accuracy: 0.9957 - val_loss: 0.0627 - val_accuracy: 0.9833\n",
            "Epoch 34/50\n",
            "375/375 [==============================] - 4s 11ms/step - loss: 0.0119 - accuracy: 0.9961 - val_loss: 0.0552 - val_accuracy: 0.9867\n",
            "Epoch 35/50\n",
            "375/375 [==============================] - 4s 12ms/step - loss: 0.0096 - accuracy: 0.9968 - val_loss: 0.0637 - val_accuracy: 0.9833\n",
            "Epoch 36/50\n",
            "375/375 [==============================] - 4s 12ms/step - loss: 0.0097 - accuracy: 0.9967 - val_loss: 0.0504 - val_accuracy: 0.9879\n",
            "Epoch 37/50\n",
            "375/375 [==============================] - 4s 12ms/step - loss: 0.0075 - accuracy: 0.9975 - val_loss: 0.0600 - val_accuracy: 0.9873\n",
            "Epoch 38/50\n",
            "375/375 [==============================] - 4s 11ms/step - loss: 0.0104 - accuracy: 0.9966 - val_loss: 0.0610 - val_accuracy: 0.9867\n",
            "Epoch 39/50\n",
            "375/375 [==============================] - 4s 11ms/step - loss: 0.0076 - accuracy: 0.9975 - val_loss: 0.0535 - val_accuracy: 0.9893\n",
            "Epoch 40/50\n",
            "375/375 [==============================] - 4s 11ms/step - loss: 0.0089 - accuracy: 0.9970 - val_loss: 0.0444 - val_accuracy: 0.9887\n",
            "Epoch 41/50\n",
            "375/375 [==============================] - 4s 11ms/step - loss: 0.0083 - accuracy: 0.9973 - val_loss: 0.0534 - val_accuracy: 0.9893\n",
            "Epoch 42/50\n",
            "375/375 [==============================] - 4s 11ms/step - loss: 0.0118 - accuracy: 0.9962 - val_loss: 0.0635 - val_accuracy: 0.9849\n",
            "Epoch 43/50\n",
            "375/375 [==============================] - 4s 11ms/step - loss: 0.0075 - accuracy: 0.9976 - val_loss: 0.0573 - val_accuracy: 0.9871\n",
            "Epoch 44/50\n",
            "375/375 [==============================] - 4s 11ms/step - loss: 0.0070 - accuracy: 0.9978 - val_loss: 0.0740 - val_accuracy: 0.9832\n",
            "Epoch 45/50\n",
            "375/375 [==============================] - 4s 11ms/step - loss: 0.0088 - accuracy: 0.9969 - val_loss: 0.0500 - val_accuracy: 0.9876\n",
            "Epoch 46/50\n",
            "375/375 [==============================] - 4s 11ms/step - loss: 0.0086 - accuracy: 0.9975 - val_loss: 0.0456 - val_accuracy: 0.9883\n",
            "Epoch 47/50\n",
            "375/375 [==============================] - 4s 12ms/step - loss: 0.0046 - accuracy: 0.9985 - val_loss: 0.0631 - val_accuracy: 0.9861\n",
            "Epoch 48/50\n",
            "375/375 [==============================] - 4s 12ms/step - loss: 0.0092 - accuracy: 0.9971 - val_loss: 0.0570 - val_accuracy: 0.9880\n",
            "Epoch 49/50\n",
            "375/375 [==============================] - 4s 11ms/step - loss: 0.0070 - accuracy: 0.9977 - val_loss: 0.0647 - val_accuracy: 0.9843\n",
            "Epoch 50/50\n",
            "375/375 [==============================] - 4s 11ms/step - loss: 0.0069 - accuracy: 0.9976 - val_loss: 0.0617 - val_accuracy: 0.9866\n"
          ]
        },
        {
          "output_type": "execute_result",
          "data": {
            "text/plain": [
              "<keras.callbacks.History at 0x7fcf25ba7670>"
            ]
          },
          "metadata": {},
          "execution_count": 29
        }
      ]
    },
    {
      "cell_type": "markdown",
      "source": [
        "# 평가"
      ],
      "metadata": {
        "id": "JHwmcGCAls0F"
      }
    },
    {
      "cell_type": "code",
      "source": [
        "model.evaluate(X_test,y_test_one_hot,verbose=0)"
      ],
      "metadata": {
        "colab": {
          "base_uri": "https://localhost:8080/"
        },
        "id": "Ms2U7cn7loNm",
        "outputId": "7251cdf9-5b7b-4431-f11a-99667367d5ba"
      },
      "execution_count": 30,
      "outputs": [
        {
          "output_type": "execute_result",
          "data": {
            "text/plain": [
              "[0.04331129044294357, 0.9904000163078308]"
            ]
          },
          "metadata": {},
          "execution_count": 30
        }
      ]
    },
    {
      "cell_type": "code",
      "source": [],
      "metadata": {
        "id": "onCdmBBTnQbi"
      },
      "execution_count": null,
      "outputs": []
    }
  ]
}