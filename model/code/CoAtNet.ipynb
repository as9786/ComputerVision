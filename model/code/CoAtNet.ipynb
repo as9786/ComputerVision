{
 "cells": [
  {
   "cell_type": "markdown",
   "metadata": {},
   "source": [
    "# 0. Library "
   ]
  },
  {
   "cell_type": "code",
   "execution_count": 3,
   "metadata": {},
   "outputs": [],
   "source": [
    "import torch\n",
    "from torch import nn\n",
    "\n",
    "from einops import rearrange\n",
    "from einops.layers.torch import Rearrange"
   ]
  },
  {
   "cell_type": "markdown",
   "metadata": {},
   "source": [
    "# 2. Module"
   ]
  },
  {
   "cell_type": "code",
   "execution_count": 41,
   "metadata": {},
   "outputs": [],
   "source": [
    "def conv_3x3_bn(inp, oup, image_size, downsample=False):\n",
    "    stride = 1 if downsample == False else 2\n",
    "    return nn.Sequential(\n",
    "        nn.Conv2d(inp, oup, 3, stride, 1, bias=False),\n",
    "        nn.BatchNorm2d(oup),\n",
    "        nn.GELU()\n",
    "    )"
   ]
  },
  {
   "cell_type": "code",
   "execution_count": 42,
   "metadata": {},
   "outputs": [],
   "source": [
    "class PreNorm(nn.Module):\n",
    "    def __init__(self, dim, fn, norm):\n",
    "        super().__init__()\n",
    "        self.norm = norm(dim)\n",
    "        self.fn = fn\n",
    "\n",
    "    def forward(self, x, **kwargs):\n",
    "        return self.fn(self.norm(x), **kwargs)"
   ]
  },
  {
   "cell_type": "code",
   "execution_count": 43,
   "metadata": {},
   "outputs": [],
   "source": [
    "class SE(nn.Module):\n",
    "    def __init__(self, inp, oup, expansion=0.25):\n",
    "        super().__init__()\n",
    "\n",
    "        # 1x1 크기의 Adaptive 평균 풀링을 수행하여 채널별 평균값을 계산\n",
    "        self.avg_pool = nn.AdaptiveAvgPool2d(1)\n",
    "\n",
    "        # 두 개의 선형 레이어를 사용하여 채널별 중요도를 조정\n",
    "        self.fc = nn.Sequential(\n",
    "            nn.Linear(oup, int(inp * expansion), bias=False),  # 입력 차원을 줄임 (채널 축소)\n",
    "            nn.GELU(),  # 활성화 함수 GELU 사용\n",
    "            nn.Linear(int(inp * expansion), oup, bias=False),  # 다시 원래 차원으로 복구 (채널 확장)\n",
    "            nn.Sigmoid()  # 0~1 범위로 정규화하여 채널별 중요도 생성\n",
    "        )\n",
    "\n",
    "    def forward(self, x):\n",
    "        b, c, _, _ = x.size()  # 입력 텐서의 크기: (batch, channels, height, width)\n",
    "\n",
    "        # Global Average Pooling을 적용하여 각 채널의 평균값을 구함 (특징 압축)\n",
    "        y = self.avg_pool(x).view(b, c)  # (b, c, 1, 1) -> (b, c)\n",
    "\n",
    "        # 채널별 중요도 계산 (Squeeze-and-Excitation 연산)\n",
    "        y = self.fc(y).view(b, c, 1, 1)  # 다시 (b, c, 1, 1) 형태로 변환\n",
    "\n",
    "        # 입력 특성 맵에 채널별 가중치 적용 (채널별 중요도를 곱함)\n",
    "        return x * y  # (b, c, h, w) * (b, c, 1, 1)\n"
   ]
  },
  {
   "cell_type": "code",
   "execution_count": 44,
   "metadata": {},
   "outputs": [],
   "source": [
    "class FeedForward(nn.Module):\n",
    "\n",
    "    def __init__(self, dim, hidden_dim, dropout=0.):\n",
    "        super().__init__()\n",
    "        self.net = nn.Sequential(\n",
    "            nn.Linear(dim ,hidden_dim),\n",
    "            nn.GELU(),\n",
    "            nn.Dropout(dropout),\n",
    "            nn.Linear(hidden_dim, dim),\n",
    "            nn.Dropout(dropout)\n",
    "        )\n",
    "\n",
    "    def forward(self, x):\n",
    "        return self.net(x)"
   ]
  },
  {
   "cell_type": "code",
   "execution_count": 53,
   "metadata": {},
   "outputs": [],
   "source": [
    "class MBConv(nn.Module):\n",
    "\n",
    "    def __init__(self, inp, oup, image_size, downsample=False, expansion=4):\n",
    "        super().__init__()\n",
    "        self.downsample = downsample\n",
    "        stride = 1 if self.downsample == False else 2\n",
    "        hidden_dim = int(inp * expansion)\n",
    "\n",
    "        if self.downsample:\n",
    "            self.pool = nn.MaxPool2d(3, 2, 1)\n",
    "            self.proj = nn.Conv2d(inp, oup, 1, 1, 0, bias=False)\n",
    "\n",
    "        if expansion == 1:\n",
    "            self.conv = nn.Sequential(\n",
    "                # dw\n",
    "                nn.Conv2d(hidden_dim, hidden_dim, 3, stride,\n",
    "                          1, groups=hidden_dim, bias=False),\n",
    "                nn.BatchNorm2d(hidden_dim),\n",
    "                nn.GELU(),\n",
    "                # pw-linear\n",
    "                nn.Conv2d(hidden_dim, oup, 1, 1, 0, bias=False),\n",
    "                nn.BatchNorm2d(oup),\n",
    "            )\n",
    "        else:\n",
    "            self.conv = nn.Sequential(\n",
    "                # pw\n",
    "                # down-sample in the first conv\n",
    "                nn.Conv2d(inp, hidden_dim, 1, stride, 0, bias=False),\n",
    "                nn.BatchNorm2d(hidden_dim),\n",
    "                nn.GELU(),\n",
    "                # dw\n",
    "                nn.Conv2d(hidden_dim, hidden_dim, 3, 1, 1,\n",
    "                          groups=hidden_dim, bias=False),\n",
    "                nn.BatchNorm2d(hidden_dim),\n",
    "                nn.GELU(),\n",
    "                SE(inp, hidden_dim),\n",
    "                # pw-linear\n",
    "                nn.Conv2d(hidden_dim, oup, 1, 1, 0, bias=False),\n",
    "                nn.BatchNorm2d(oup),\n",
    "            )\n",
    "        \n",
    "        \n",
    "        self.conv = PreNorm(inp, self.conv, nn.BatchNorm2d)\n",
    "\n",
    "    def forward(self, x):\n",
    "        if self.downsample:\n",
    "            return self.proj(self.pool(x)) + self.conv(x)\n",
    "        else:\n",
    "            return x + self.conv(x)"
   ]
  },
  {
   "cell_type": "code",
   "execution_count": 54,
   "metadata": {},
   "outputs": [],
   "source": [
    "class Attention(nn.Module):\n",
    "    def __init__(self, inp, oup, image_size, heads=8, dim_head=32, dropout=0.):\n",
    "        super().__init__()\n",
    "        \n",
    "        # 내부 차원 계산 (head 수 * head당 차원 크기)\n",
    "        inner_dim = dim_head * heads\n",
    "\n",
    "        # output projection이 필요한지 여부 (head가 1개이고 차원이 같다면 불필요)\n",
    "        project_out = not (heads == 1 and dim_head == inp)\n",
    "\n",
    "        # 이미지 크기 저장 (ih: height, iw: width)\n",
    "        self.ih, self.iw = image_size\n",
    "\n",
    "        self.heads = heads\n",
    "        self.scale = dim_head ** -0.5  # Self-Attention 점수 스케일링 (1 / sqrt(d_k))\n",
    "\n",
    "        # 🔹 상대적 위치 임베딩 테이블 (Learnable Parameters)\n",
    "        self.relative_bias_table = nn.Parameter(\n",
    "            torch.zeros((2 * self.ih - 1) * (2 * self.iw - 1), heads)  # (H*W, heads)\n",
    "        )\n",
    "\n",
    "        # 🔹 상대적 위치 좌표 생성\n",
    "        coords = torch.meshgrid((torch.arange(self.ih), torch.arange(self.iw)))  \n",
    "        coords = torch.flatten(torch.stack(coords), 1)  # 좌표를 펼쳐서 (2, H*W) 형태로 변환\n",
    "\n",
    "        # 모든 위치 쌍 간의 상대적 위치 계산\n",
    "        relative_coords = coords[:, :, None] - coords[:, None, :]  # (2, H*W, H*W)\n",
    "\n",
    "        # 상대적 위치 값을 양수로 변환 (인덱싱을 위해)\n",
    "        relative_coords[0] += self.ih - 1\n",
    "        relative_coords[1] += self.iw - 1\n",
    "        relative_coords[0] *= 2 * self.iw - 1  # 위치 값이 고유한 인덱스가 되도록 변환\n",
    "\n",
    "        # (2, H*W, H*W) -> (H*W, H*W, 2)\n",
    "        relative_coords = rearrange(relative_coords, 'c h w -> h w c')\n",
    "\n",
    "        # 최종 상대 위치 인덱스 생성 (flatten 후 차원 확장)\n",
    "        relative_index = relative_coords.sum(-1).flatten().unsqueeze(1)  # (H*W * H*W, 1)\n",
    "\n",
    "        # register_buffer를 사용해 학습하지 않는 텐서로 저장 (모델 저장 시 함께 저장됨)\n",
    "        self.register_buffer(\"relative_index\", relative_index)\n",
    "\n",
    "        # 🔹 Self-Attention Softmax\n",
    "        self.attend = nn.Softmax(dim=-1)\n",
    "\n",
    "        # 🔹 Query, Key, Value 생성 (선형 변환)\n",
    "        self.to_qkv = nn.Linear(inp, inner_dim * 3, bias=False)  # (batch, seq_len, inner_dim * 3)\n",
    "\n",
    "        # 🔹 출력 프로젝션 (필요 시 적용)\n",
    "        self.to_out = nn.Sequential(\n",
    "            nn.Linear(inner_dim, oup),  # 최종 출력 크기로 변환\n",
    "            nn.Dropout(dropout)  # 과적합 방지를 위한 Dropout 적용\n",
    "        ) if project_out else nn.Identity()\n",
    "\n",
    "    def forward(self, x):\n",
    "        # 🔹 Query, Key, Value 분할\n",
    "        qkv = self.to_qkv(x).chunk(3, dim=-1)  # (batch, seq_len, inner_dim) 3개로 나눔\n",
    "        q, k, v = map(lambda t: rearrange(\n",
    "            t, 'b n (h d) -> b h n d', h=self.heads), qkv)  # (batch, heads, seq_len, dim_head)\n",
    "\n",
    "        # 🔹 Self-Attention Score 계산 (Q x K^T)\n",
    "        dots = torch.matmul(q, k.transpose(-1, -2)) * self.scale  # (batch, heads, seq_len, seq_len)\n",
    "\n",
    "        # 🔹 상대적 위치 임베딩 적용\n",
    "        relative_bias = self.relative_bias_table.gather(\n",
    "            0, self.relative_index.repeat(1, self.heads)  # 상대적 위치에 해당하는 bias 선택\n",
    "        )\n",
    "\n",
    "        # (H*W * H*W, heads) -> (1, heads, H*W, H*W)\n",
    "        relative_bias = rearrange(\n",
    "            relative_bias, '(h w) c -> 1 c h w', h=self.ih*self.iw, w=self.ih*self.iw\n",
    "        )\n",
    "\n",
    "        # 어텐션 점수에 상대적 위치 임베딩 추가\n",
    "        dots = dots + relative_bias\n",
    "\n",
    "        # 🔹 Softmax를 통해 어텐션 가중치 계산\n",
    "        attn = self.attend(dots)\n",
    "\n",
    "        # 🔹 어텐션 적용 (V와 곱함)\n",
    "        out = torch.matmul(attn, v)  # (batch, heads, seq_len, dim_head)\n",
    "\n",
    "        # 🔹 병합 (multi-head -> single representation)\n",
    "        out = rearrange(out, 'b h n d -> b n (h d)')  # (batch, seq_len, inner_dim)\n",
    "\n",
    "        # 🔹 최종 출력 변환\n",
    "        out = self.to_out(out)  # (batch, seq_len, oup)\n",
    "        return out\n"
   ]
  },
  {
   "cell_type": "code",
   "execution_count": 61,
   "metadata": {},
   "outputs": [],
   "source": [
    "class Transformer(nn.Module):\n",
    "\n",
    "    def __init__(self, inp, oup, image_size, heads=8, dim_head=32, downsample=False, dropout=0.):\n",
    "        super().__init__()\n",
    "        hidden_dim = int(inp * 4)\n",
    "\n",
    "        self.ih, self.iw = image_size\n",
    "        self.downsample = downsample \n",
    "\n",
    "        if self.downsample:\n",
    "            self.pool1 = nn.MaxPool2d(3,2,1)\n",
    "            self.pool2 = nn.MaxPool2d(3,2,1)\n",
    "            self.proj = nn.Conv2d(inp, oup, 1, 1, 0, bias=False)\n",
    "\n",
    "        self.attn = Attention(inp, oup, image_size, heads, dim_head, dropout)\n",
    "        self.ff = FeedForward(oup, hidden_dim, dropout)\n",
    "\n",
    "        self.attn = nn.Sequential(\n",
    "            Rearrange('b c ih iw -> b (ih iw) c'),\n",
    "            PreNorm(inp, self.attn, nn.LayerNorm),\n",
    "            Rearrange('b (ih iw ) c -> b c ih iw', ih=self.ih, iw=self.iw)\n",
    "        )\n",
    "\n",
    "        self.ff = nn.Sequential(\n",
    "            Rearrange('b c ih iw -> b (ih iw) c'),\n",
    "            PreNorm(oup, self.ff, nn.LayerNorm),\n",
    "            Rearrange('b (ih iw) c -> b c ih iw', ih=self.ih, iw=self.iw)\n",
    "        )\n",
    "\n",
    "    def forward(self, x):\n",
    "        if self.downsample:\n",
    "            x = self.proj(self.pool1(x)) + self.attn(self.pool2(x))\n",
    "        else:\n",
    "            x = x + self.attn(x)\n",
    "\n",
    "        x = x + self.ff(x)\n",
    "\n",
    "        return x"
   ]
  },
  {
   "cell_type": "markdown",
   "metadata": {},
   "source": [
    "# 2. 모형"
   ]
  },
  {
   "cell_type": "code",
   "execution_count": 62,
   "metadata": {},
   "outputs": [],
   "source": [
    "class CoAtNet(nn.Module):\n",
    "    def __init__(self, image_size, in_channels, num_blocks, channels, num_classes=1000, block_types=['C', 'C', 'T', 'T']):\n",
    "        super().__init__()\n",
    "        ih, iw = image_size\n",
    "        block = {'C': MBConv, 'T': Transformer}\n",
    "\n",
    "        self.s0 = self._make_layer(\n",
    "            conv_3x3_bn, in_channels, channels[0], num_blocks[0], (ih // 2, iw // 2))\n",
    "        self.s1 = self._make_layer(\n",
    "            block[block_types[0]], channels[0], channels[1], num_blocks[1], (ih // 4, iw // 4))\n",
    "        self.s2 = self._make_layer(\n",
    "            block[block_types[1]], channels[1], channels[2], num_blocks[2], (ih // 8, iw // 8))\n",
    "        self.s3 = self._make_layer(\n",
    "            block[block_types[2]], channels[2], channels[3], num_blocks[3], (ih // 16, iw // 16))\n",
    "        self.s4 = self._make_layer(\n",
    "            block[block_types[3]], channels[3], channels[4], num_blocks[4], (ih // 32, iw // 32))\n",
    "\n",
    "        self.pool = nn.AvgPool2d(ih // 32, 1)\n",
    "        self.fc = nn.Linear(channels[-1], num_classes, bias=False)\n",
    "\n",
    "    def forward(self, x):\n",
    "        x = self.s0(x)\n",
    "        x = self.s1(x)\n",
    "        x = self.s2(x)\n",
    "        x = self.s3(x)\n",
    "        x = self.s4(x)\n",
    "\n",
    "        x = self.pool(x).view(-1, x.shape[1])\n",
    "        x = self.fc(x)\n",
    "        return x\n",
    "\n",
    "    def _make_layer(self, block, inp, oup, depth, image_size):\n",
    "        layers = nn.ModuleList([])\n",
    "        for i in range(depth):\n",
    "            if i == 0:\n",
    "                layers.append(block(inp, oup, image_size, downsample=True))\n",
    "            else:\n",
    "                layers.append(block(oup, oup, image_size))\n",
    "        return nn.Sequential(*layers)\n"
   ]
  },
  {
   "cell_type": "code",
   "execution_count": 63,
   "metadata": {},
   "outputs": [],
   "source": [
    "def coatnet():\n",
    "    num_blocks = [2, 2, 12, 28, 2]          # L\n",
    "    channels = [192, 192, 384, 768, 1536]   # D\n",
    "    return CoAtNet((224, 224), 3, num_blocks, channels, num_classes=1000)"
   ]
  },
  {
   "cell_type": "code",
   "execution_count": 64,
   "metadata": {},
   "outputs": [],
   "source": [
    "def count_parameters(model):\n",
    "    return sum(p.numel() for p in model.parameters() if p.requires_grad)"
   ]
  },
  {
   "cell_type": "code",
   "execution_count": 65,
   "metadata": {},
   "outputs": [],
   "source": [
    "img = torch.randn(1,3,224,224)"
   ]
  },
  {
   "cell_type": "code",
   "execution_count": 67,
   "metadata": {},
   "outputs": [],
   "source": [
    "model = coatnet().to('cuda')"
   ]
  },
  {
   "cell_type": "code",
   "execution_count": 68,
   "metadata": {},
   "outputs": [],
   "source": [
    "output = model(img.to('cuda'))"
   ]
  },
  {
   "cell_type": "code",
   "execution_count": 70,
   "metadata": {},
   "outputs": [
    {
     "data": {
      "text/plain": [
       "torch.Size([1, 1000])"
      ]
     },
     "execution_count": 70,
     "metadata": {},
     "output_type": "execute_result"
    }
   ],
   "source": [
    "output.shape"
   ]
  }
 ],
 "metadata": {
  "kernelspec": {
   "display_name": "dbnet",
   "language": "python",
   "name": "python3"
  },
  "language_info": {
   "codemirror_mode": {
    "name": "ipython",
    "version": 3
   },
   "file_extension": ".py",
   "mimetype": "text/x-python",
   "name": "python",
   "nbconvert_exporter": "python",
   "pygments_lexer": "ipython3",
   "version": "3.10.16"
  }
 },
 "nbformat": 4,
 "nbformat_minor": 2
}
