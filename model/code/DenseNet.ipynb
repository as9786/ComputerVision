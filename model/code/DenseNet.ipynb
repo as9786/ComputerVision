{
 "cells": [
  {
   "cell_type": "markdown",
   "id": "b25c7922-9e2c-422c-8841-ad520a103292",
   "metadata": {},
   "source": [
    "# DenseNet 구현 및 학습"
   ]
  },
  {
   "cell_type": "code",
   "execution_count": 27,
   "id": "5b9566c4-ac53-4475-834f-abef839c22ff",
   "metadata": {},
   "outputs": [],
   "source": [
    "import tensorflow as tf\n",
    "import numpy as np"
   ]
  },
  {
   "cell_type": "markdown",
   "id": "f96bcfd0-f834-4a62-abbb-b80edb89be17",
   "metadata": {},
   "source": [
    "# 초매개변수"
   ]
  },
  {
   "cell_type": "code",
   "execution_count": 28,
   "id": "37bb8377-99dd-4548-8499-7269eedb45a5",
   "metadata": {},
   "outputs": [],
   "source": [
    "EPOCHS = 10"
   ]
  },
  {
   "cell_type": "markdown",
   "id": "a8a25e65-ddf6-428c-a87b-0a90cf4a8c12",
   "metadata": {},
   "source": [
    "# DenseUnit 구현"
   ]
  },
  {
   "cell_type": "code",
   "execution_count": 29,
   "id": "35e802a0-84b7-403e-a626-67a88d548cb6",
   "metadata": {},
   "outputs": [],
   "source": [
    "class DenseUnit(tf.keras.Model):\n",
    "    def __init__(self, filter_out, kernel_size):\n",
    "        super(DenseUnit,self).__init__()\n",
    "        self.bn = tf.keras.layers.BatchNormalization()\n",
    "        self.conv = tf.keras.layers.Conv2D(filter_out,kernel_size,padding='same')\n",
    "        self.concat = tf.keras.layers.Concatenate()\n",
    "        \n",
    "    def call(self,x,training=False,mask=None): # x : (Batch,H,W,C)\n",
    "        h = self.bn(x,training=training)\n",
    "        h = tf.nn.relu(h)\n",
    "        h = self.conv(h) # (Batch, H, W, filter_out)\n",
    "        return self.concat([x,h]) # (Batch, H, W, (C + filter_out))"
   ]
  },
  {
   "cell_type": "markdown",
   "id": "f38e5f61-8920-422a-adbb-14b07cd2f87d",
   "metadata": {},
   "source": [
    "# DenseLayer 구현"
   ]
  },
  {
   "cell_type": "code",
   "execution_count": 30,
   "id": "35823f07-b7fd-49f4-9314-7084c586d9b6",
   "metadata": {},
   "outputs": [],
   "source": [
    "class DenseLayer(tf.keras.Model):\n",
    "    \n",
    "    def __init__(self, num_unit, growth_rate, kernel_size):\n",
    "        super(DenseLayer,self).__init__()\n",
    "        self.sequence = list()\n",
    "        for idx in range(num_unit):\n",
    "            self.sequence.append(DenseUnit(growth_rate,kernel_size))\n",
    "            \n",
    "    def call(self, x,training=False, mask=None):\n",
    "        for unit in self.sequence:\n",
    "            x = unit(x, training=training)\n",
    "        return x"
   ]
  },
  {
   "cell_type": "markdown",
   "id": "0efdb4b7-ff0b-4ff2-89db-9e3f4e2f9e6d",
   "metadata": {},
   "source": [
    "# Transition Layer 구현"
   ]
  },
  {
   "cell_type": "code",
   "execution_count": 31,
   "id": "d108623e-21b0-44d3-a98b-8a48daf66a30",
   "metadata": {},
   "outputs": [],
   "source": [
    "class TransitionLayer(tf.keras.Model):\n",
    "    def __init__(self,filters,kernel_size):\n",
    "        super(TransitionLayer,self).__init__()\n",
    "        self.conv = tf.keras.layers.Conv2D(filters,kernel_size,padding='same')\n",
    "        self.pool = tf.keras.layers.MaxPool2D()\n",
    "        \n",
    "    def call(self,x,training=False,mask=None):\n",
    "        x = self.conv(x)\n",
    "        return self.pool(x)"
   ]
  },
  {
   "cell_type": "markdown",
   "id": "b4a117c7-beab-41a2-9597-9f8342c78830",
   "metadata": {},
   "source": [
    "# 모형 정의"
   ]
  },
  {
   "cell_type": "code",
   "execution_count": 32,
   "id": "94846479-0549-48b6-b81e-18e94ec36d35",
   "metadata": {},
   "outputs": [],
   "source": [
    "class DenseNet(tf.keras.Model):\n",
    "    def __init__(self):\n",
    "        super(DenseNet,self).__init__()\n",
    "        self.conv1 = tf.keras.layers.Conv2D(8,(3,3),padding='same',activation='relu')\n",
    "        self.dl1 = DenseLayer(2,4,(3,3)) # 28 x 28 x 16\n",
    "        self.tr1 = TransitionLayer(16,(3,3)) # 14 x 14 x 16\n",
    "    \n",
    "        self.dl2 = DenseLayer(2,8,(3,3)) # 14 x 14 x 32\n",
    "        self.tr2 = TransitionLayer(32,(3,3)) # 7 x 7 x 32\n",
    "        \n",
    "        self.dl3 = DenseLayer(2,16,(3,3)) # 7 x 7 x 64\n",
    "        \n",
    "        self.flatten = tf.keras.layers.Flatten()\n",
    "        self.dense1 = tf.keras.layers.Dense(128, activation='relu')\n",
    "        self.dense2 = tf.keras.layers.Dense(10,activation='softmax')\n",
    "        \n",
    "    def call(self,x,training=False,mask=None):\n",
    "        x = self.conv1(x)\n",
    "        x = self.dl1(x,training=training)\n",
    "        x = self.tr1(x)\n",
    "        x = self.dl2(x,training=training)\n",
    "        x = self.tr2(x)\n",
    "        x = self.dl3(x,training=training)\n",
    "        x = self.flatten(x)\n",
    "        x = self.dense1(x)\n",
    "        return self.dense2(x)\n",
    "        \n",
    "        \n",
    "        "
   ]
  },
  {
   "cell_type": "markdown",
   "id": "f8bab28f-ef05-40d1-b7aa-2f5c482aa09e",
   "metadata": {},
   "source": [
    "# Train and Test"
   ]
  },
  {
   "cell_type": "markdown",
   "id": "f44f533d-3193-490a-97cd-d79451775828",
   "metadata": {},
   "source": [
    "## Dataset"
   ]
  },
  {
   "cell_type": "code",
   "execution_count": 33,
   "id": "54a9e8e1-6fcf-430f-96f1-f4e64e703386",
   "metadata": {},
   "outputs": [],
   "source": [
    "mnist = tf.keras.datasets.mnist\n",
    "\n",
    "(X_train,y_train),(X_test,y_test) = mnist.load_data()\n",
    "\n",
    "X_train, X_test = X_train / 255., X_test / 255.\n",
    "\n",
    "X_train = X_train[...,tf.newaxis].astype(np.float32)\n",
    "X_test = X_test[...,tf.newaxis].astype(np.float32)\n",
    "\n",
    "train_ds = tf.data.Dataset.from_tensor_slices((X_train,y_train)).shuffle(10000).batch(32)\n",
    "test_ds = tf.data.Dataset.from_tensor_slices((X_test,y_test)).batch(32)"
   ]
  },
  {
   "cell_type": "markdown",
   "id": "f3449900-0080-415c-9403-82d49ddac00d",
   "metadata": {},
   "source": [
    "## 학습 환경 정의"
   ]
  },
  {
   "cell_type": "markdown",
   "id": "4bd482bb-7850-472c-bdea-ac0c4b200c40",
   "metadata": {},
   "source": [
    "### 모형 생성, 손실 함수, 최적화 ,평가지표"
   ]
  },
  {
   "cell_type": "code",
   "execution_count": 34,
   "id": "bc5d52eb-1d87-46a5-9d75-fa808c316092",
   "metadata": {},
   "outputs": [],
   "source": [
    "model = DenseNet() \n",
    "\n",
    "loss_object = tf.keras.losses.SparseCategoricalCrossentropy()\n",
    "optimizer = tf.keras.optimizers.Adam()\n",
    "\n",
    "train_loss = tf.keras.metrics.Mean(name='train_loss')\n",
    "train_accuracy = tf.keras.metrics.SparseCategoricalAccuracy(name='train_accuracy')\n",
    "\n",
    "test_loss = tf.keras.metrics.Mean(name='test_loss')\n",
    "test_accuracy = tf.keras.metrics.SparseCategoricalAccuracy(name='test_accuracy')"
   ]
  },
  {
   "cell_type": "code",
   "execution_count": 35,
   "id": "f2ae830b-ed9b-4e28-9ace-d7f17477b2dc",
   "metadata": {},
   "outputs": [],
   "source": [
    "@tf.function\n",
    "def train_step(model, images, labels, loss_object, optimizer, train_loss, train_accuracy):\n",
    "  with tf.GradientTape() as tape:\n",
    "    predictions = model(images,training=True) \n",
    "    loss = loss_object(labels, predictions)\n",
    "\n",
    "  gradients = tape.gradient(loss, model.trainable_variables)\n",
    "\n",
    "  optimizer.apply_gradients(zip(gradients,model.trainable_variables))\n",
    "  train_loss(loss)\n",
    "  train_accuracy(labels,predictions)\n",
    "\n",
    "@tf.function\n",
    "def test_step(model,images,labels,loss_object,test_loss,test_accuracy): \n",
    "  predictions = model(images,training=False)\n",
    "  \n",
    "  t_loss = loss_object(labels,predictions)\n",
    "  test_loss(t_loss)\n",
    "  test_accuracy(labels,predictions)\n"
   ]
  },
  {
   "cell_type": "markdown",
   "id": "00e98fff-b36f-4fb3-a278-eff4b87e1e42",
   "metadata": {},
   "source": [
    "### 학습"
   ]
  },
  {
   "cell_type": "code",
   "execution_count": 36,
   "id": "0435016a-0012-4a67-922f-e813b7ea531d",
   "metadata": {},
   "outputs": [
    {
     "name": "stdout",
     "output_type": "stream",
     "text": [
      "Epoch 1, Loss : 0.1154453381896019, Accuracy : 96.65333557128906, Test Loss : 0.06464579701423645, Test Accuracy : 98.20999908447266\n",
      "Epoch 2, Loss : 0.0587044395506382, Accuracy : 98.36000061035156, Test Loss : 0.055165208876132965, Test Accuracy : 98.30999755859375\n",
      "Epoch 3, Loss : 0.04389728233218193, Accuracy : 98.73666381835938, Test Loss : 0.09075435250997543, Test Accuracy : 97.98999786376953\n",
      "Epoch 4, Loss : 0.04317108169198036, Accuracy : 98.8699951171875, Test Loss : 0.05866210535168648, Test Accuracy : 98.56999969482422\n",
      "Epoch 5, Loss : 0.038482531905174255, Accuracy : 98.98999786376953, Test Loss : 0.06209498271346092, Test Accuracy : 98.41999816894531\n",
      "Epoch 6, Loss : 0.031786274164915085, Accuracy : 99.11000061035156, Test Loss : 0.0585537813603878, Test Accuracy : 98.63999938964844\n",
      "Epoch 7, Loss : 0.03048602305352688, Accuracy : 99.19833374023438, Test Loss : 0.04903595149517059, Test Accuracy : 98.86000061035156\n",
      "Epoch 8, Loss : 0.026415957137942314, Accuracy : 99.32167053222656, Test Loss : 0.05464102327823639, Test Accuracy : 98.77999877929688\n",
      "Epoch 9, Loss : 0.02893204428255558, Accuracy : 99.2933349609375, Test Loss : 0.07508212327957153, Test Accuracy : 98.43000030517578\n",
      "Epoch 10, Loss : 0.022253869101405144, Accuracy : 99.46333312988281, Test Loss : 0.08864878863096237, Test Accuracy : 98.47999572753906\n"
     ]
    }
   ],
   "source": [
    "for epoch in range(EPOCHS): \n",
    "  for images, labels in train_ds:\n",
    "    train_step(model, images, labels, loss_object, optimizer, train_loss, train_accuracy)\n",
    "\n",
    "  for test_images, test_labels in test_ds: \n",
    "    test_step(model, test_images, test_labels, loss_object, test_loss, test_accuracy)\n",
    "\n",
    "  template = 'Epoch {}, Loss : {}, Accuracy : {}, Test Loss : {}, Test Accuracy : {}'\n",
    "  print(template.format(epoch + 1, train_loss.result(), train_accuracy.result() * 100, test_loss.result(),\n",
    "                        test_accuracy.result() * 100))\n",
    "\n",
    "  train_loss.reset_states()\n",
    "  train_accuracy.reset_states()\n",
    "  test_loss.reset_states()\n",
    "  test_accuracy.reset_states()\n"
   ]
  }
 ],
 "metadata": {
  "kernelspec": {
   "display_name": "Python 3",
   "language": "python",
   "name": "python3"
  },
  "language_info": {
   "codemirror_mode": {
    "name": "ipython",
    "version": 3
   },
   "file_extension": ".py",
   "mimetype": "text/x-python",
   "name": "python",
   "nbconvert_exporter": "python",
   "pygments_lexer": "ipython3",
   "version": "3.8.5"
  }
 },
 "nbformat": 4,
 "nbformat_minor": 5
}
