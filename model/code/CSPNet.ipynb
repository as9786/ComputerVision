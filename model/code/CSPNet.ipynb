{
  "nbformat": 4,
  "nbformat_minor": 0,
  "metadata": {
    "colab": {
      "provenance": [],
      "authorship_tag": "ABX9TyNC9irRzyfxN7wRL34nGycj"
    },
    "kernelspec": {
      "name": "python3",
      "display_name": "Python 3"
    },
    "language_info": {
      "name": "python"
    }
  },
  "cells": [
    {
      "cell_type": "markdown",
      "source": [
        "# Library"
      ],
      "metadata": {
        "id": "WNcJro-7Dk0p"
      }
    },
    {
      "cell_type": "code",
      "source": [
        "!pip install torchinfo"
      ],
      "metadata": {
        "colab": {
          "base_uri": "https://localhost:8080/"
        },
        "id": "ce2AYhx0DFG1",
        "outputId": "e6833124-08fd-42c3-fd78-6eeea1836c57"
      },
      "execution_count": null,
      "outputs": [
        {
          "output_type": "stream",
          "name": "stdout",
          "text": [
            "Requirement already satisfied: torchinfo in /usr/local/lib/python3.11/dist-packages (1.8.0)\n"
          ]
        }
      ]
    },
    {
      "cell_type": "code",
      "execution_count": null,
      "metadata": {
        "id": "VSSSmCAaC2nq"
      },
      "outputs": [],
      "source": [
        "import torch\n",
        "from torch import nn\n",
        "from torchinfo import summary"
      ]
    },
    {
      "cell_type": "markdown",
      "source": [
        "# 모형"
      ],
      "metadata": {
        "id": "UdCV_ZNqDnEK"
      }
    },
    {
      "cell_type": "markdown",
      "source": [
        "## DenseNet layer"
      ],
      "metadata": {
        "id": "-iqYnPnYDpko"
      }
    },
    {
      "cell_type": "code",
      "source": [
        "class DenseLayer(nn.Module):\n",
        "\n",
        "  def __init__(self, in_channels, k):\n",
        "    super().__init__()\n",
        "    self.residual = nn.Sequential(\n",
        "        nn.BatchNorm2d(in_channels),\n",
        "        nn.ReLU(inplace=True),\n",
        "        nn.Conv2d(in_channels, 4*k, 1, bias=False),\n",
        "        nn.BatchNorm2d(4*k),\n",
        "        nn.ReLU(inplace=True),\n",
        "        nn.Conv2d(4*k, k, 3, padding=1, bias=False)\n",
        "    )\n",
        "\n",
        "  def forward(self, x):\n",
        "    return torch.concat([self.residual(x),x],dim=1)"
      ],
      "metadata": {
        "id": "570vj3iwDCx8"
      },
      "execution_count": null,
      "outputs": []
    },
    {
      "cell_type": "code",
      "source": [
        "class Transition(nn.Module):\n",
        "\n",
        "  def __init__(self, in_channels, csp_transition=False):\n",
        "    super().__init__()\n",
        "    transition_layers = [\n",
        "        nn.BatchNorm2d(in_channels),\n",
        "        nn.ReLU(inplace=True),\n",
        "        nn.Conv2d(in_channels, in_channels//2, 1, bias=False)\n",
        "    ]\n",
        "\n",
        "    if csp_transition is not True:\n",
        "      transition_layers.append(nn.AvgPool2d(2))\n",
        "\n",
        "    self.transition = nn.Sequential(*transition_layers)\n",
        "\n",
        "  def forward(self, x):\n",
        "    return self.transition(x)"
      ],
      "metadata": {
        "id": "4Y4ean_FEOpY"
      },
      "execution_count": null,
      "outputs": []
    },
    {
      "cell_type": "markdown",
      "source": [
        "## CSPNet"
      ],
      "metadata": {
        "id": "XeL3t72pGoLg"
      }
    },
    {
      "cell_type": "code",
      "source": [
        "class CSPDenseBlock(nn.Module):\n",
        "\n",
        "  def __init__(self, in_channels, num_blocks, k, last_stage=False):\n",
        "    super().__init__()\n",
        "    self.in_channels = in_channels\n",
        "    csp_channels_1 = in_channels / 2\n",
        "    csp_channels_2 = in_channels - csp_channels_1\n",
        "\n",
        "    layers = []\n",
        "    for _ in range(num_blocks):\n",
        "      layers.append(DenseLayer(csp_channels_1, k))\n",
        "      csp_channels_1 += k\n",
        "    layers.append(Transition(csp_channels_1, csp_transition=True))\n",
        "    csp_channels_1 //= 2\n",
        "    self.dense_block == nn.Sequential(*layers)\n",
        "\n",
        "    self.last = nn.Sequential(nn.BatchNorm2d(csp_channels_1 + csp_channels_2), nn.ReLU(inplace = True)) if last_stage else Transition(csp_channels_1 + csp_channels_2)\n",
        "    self.channels = csp_channels_1 + csp_channels_2 if last_stage else (csp_channels_1 + csp_channels_2) // 2\n",
        "\n",
        "  def forward(self, x):\n",
        "    if self.in_channels % 2:\n",
        "        csp_x_01 = x[:, self.in_channels // 2 + 1:, ...]\n",
        "        csp_x_02 = x[:, :self.in_channels // 2 + 1, ...]\n",
        "    else:\n",
        "        csp_x_01 = x[:, self.in_channels // 2:, ...]\n",
        "        csp_x_02 = x[:, :self.in_channels // 2, ...]\n",
        "\n",
        "    csp_x_01 = self.dense_block(csp_x_01)\n",
        "    csp_x = torch.cat([csp_x_01, csp_x_02], dim = 1)\n",
        "\n",
        "    return self.last(csp_x)"
      ],
      "metadata": {
        "id": "o1cK7XIBGmK9"
      },
      "execution_count": null,
      "outputs": []
    },
    {
      "cell_type": "code",
      "source": [
        "class CSPDenseNet(nn.Module):\n",
        "    def __init__(self, block_list, growth_rate, n_classes = 1000):\n",
        "        super().__init__()\n",
        "\n",
        "        assert len(block_list) == 4\n",
        "        self.k = growth_rate\n",
        "\n",
        "        self.conv1 = nn.Sequential(\n",
        "            nn.Conv2d(3, 2 * self.k, 7, stride = 2, padding = 3, bias = False),\n",
        "            nn.BatchNorm2d(2 * self.k),\n",
        "            nn.ReLU(inplace = True),\n",
        "        )\n",
        "        self.maxpool = nn.MaxPool2d(3, stride = 2, padding = 1)\n",
        "\n",
        "        self.dense_block_01 = CSPDenseBlock(2 * self.k, block_list[0], self.k)\n",
        "        self.dense_block_02 = CSPDenseBlock(self.dense_block_01.channels, block_list[1], self.k)\n",
        "        self.dense_block_03 = CSPDenseBlock(self.dense_block_02.channels, block_list[2], self.k)\n",
        "        self.dense_block_04 = CSPDenseBlock(self.dense_block_03.channels, block_list[3], self.k, last_stage = True)\n",
        "\n",
        "        self.avgpool = nn.AdaptiveAvgPool2d((1, 1))\n",
        "        self.fc = nn.Linear(self.dense_block_04.channels, n_classes)\n",
        "\n",
        "    def forward(self, x):\n",
        "        x = self.conv1(x)\n",
        "        x = self.maxpool(x)\n",
        "        x = self.dense_block_01(x)\n",
        "        x = self.dense_block_02(x)\n",
        "        x = self.dense_block_03(x)\n",
        "        x = self.dense_block_04(x)\n",
        "        x = self.avgpool(x)\n",
        "        x = torch.flatten(x, 1)\n",
        "        x = self.fc(x)\n",
        "        return x"
      ],
      "metadata": {
        "id": "-MZ8AZQrJBZd"
      },
      "execution_count": null,
      "outputs": []
    },
    {
      "cell_type": "code",
      "source": [],
      "metadata": {
        "id": "zbQ0nmdpJE_r"
      },
      "execution_count": null,
      "outputs": []
    }
  ]
}