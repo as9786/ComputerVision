{
  "nbformat": 4,
  "nbformat_minor": 0,
  "metadata": {
    "colab": {
      "provenance": [],
      "authorship_tag": "ABX9TyMLb3MyEEvvXsPM77V1ouJ4",
      "include_colab_link": true
    },
    "kernelspec": {
      "name": "python3",
      "display_name": "Python 3"
    },
    "language_info": {
      "name": "python"
    },
    "accelerator": "GPU",
    "gpuClass": "standard"
  },
  "cells": [
    {
      "cell_type": "markdown",
      "metadata": {
        "id": "view-in-github",
        "colab_type": "text"
      },
      "source": [
        "<a href=\"https://colab.research.google.com/github/as9786/ComputerVision/blob/main/model/code/ResNet.ipynb\" target=\"_parent\"><img src=\"https://colab.research.google.com/assets/colab-badge.svg\" alt=\"Open In Colab\"/></a>"
      ]
    },
    {
      "cell_type": "markdown",
      "source": [
        "# Residual Network 구현 및 학습"
      ],
      "metadata": {
        "id": "l9cn4-lc53-p"
      }
    },
    {
      "cell_type": "code",
      "execution_count": 1,
      "metadata": {
        "id": "rjpVPb7o5qvs"
      },
      "outputs": [],
      "source": [
        "import tensorflow as tf \n",
        "import numpy as np"
      ]
    },
    {
      "cell_type": "markdown",
      "source": [
        "# 초매개변수"
      ],
      "metadata": {
        "id": "uVQTQ9J359ZS"
      }
    },
    {
      "cell_type": "code",
      "source": [
        "EPOCHS = 10"
      ],
      "metadata": {
        "id": "AKQdE_z959FD"
      },
      "execution_count": 2,
      "outputs": []
    },
    {
      "cell_type": "markdown",
      "source": [
        "# Residual Unit 구현"
      ],
      "metadata": {
        "id": "54UMuWfl5_vD"
      }
    },
    {
      "cell_type": "code",
      "source": [
        "class ResidualUnit(tf.keras.Model):\n",
        "  def __init__(self,filter_in,filter_out,kernel_size):\n",
        "    super(ResidualUnit,self).__init__()\n",
        "    self.bn1 = tf.keras.layers.BatchNormalization()\n",
        "    self.conv1 = tf.keras.layers.Conv2D(filter_out, kernel_size, padding='same')\n",
        "\n",
        "    self.bn2 = tf.keras.layers.BatchNormalization()\n",
        "    self.conv2 = tf.keras.layers.Conv2D(filter_out, kernel_size, padding='same')\n",
        "\n",
        "    if filter_in == filter_out: \n",
        "      self.identity = lambda x: x\n",
        "    else:\n",
        "      self.identity = tf.keras.layers.Conv2D(filter_out,(1,1),padding='same')\n",
        "\n",
        "  def call(self, x, training=False, mask=None):\n",
        "    h = self.bn1(x,training=training) \n",
        "    h = tf.nn.relu(h)\n",
        "    h = self.conv1(h)\n",
        "\n",
        "    h = self.bn2(h,training=training)\n",
        "    h = tf.nn.relu(h)\n",
        "    h = self.conv2(h)\n",
        "    return self.identity(x) + h"
      ],
      "metadata": {
        "id": "GgqHouiC5_Vs"
      },
      "execution_count": 10,
      "outputs": []
    },
    {
      "cell_type": "markdown",
      "source": [
        "# Residual Layer 구현"
      ],
      "metadata": {
        "id": "wFSqNcI27m-7"
      }
    },
    {
      "cell_type": "code",
      "source": [
        "class ResnetLayer(tf.keras.Model):\n",
        "  def __init__(self,filter_in,filters,kernel_size):\n",
        "    super(ResnetLayer,self).__init__()\n",
        "    self.sequence = list()\n",
        "    for f_in, f_out in zip([filter_in] + list(filters),filters):\n",
        "      # [16] + [32,32,32]\n",
        "      # zip([16,32,32,32],[32,32,32]) 마지막 남은 것은 무시(작은것을 기준으로 zip)\n",
        "      self.sequence.append(ResidualUnit(f_in,f_out,kernel_size))\n",
        "\n",
        "  def call(self,x,training=False,mask=None):\n",
        "      for unit in self.sequence:\n",
        "        x = unit(x,training=training)\n",
        "\n",
        "      return x"
      ],
      "metadata": {
        "id": "Ke2_mXkv7ljg"
      },
      "execution_count": 25,
      "outputs": []
    },
    {
      "cell_type": "markdown",
      "source": [
        "# 모형 정의"
      ],
      "metadata": {
        "id": "GAUWnlTy9av9"
      }
    },
    {
      "cell_type": "code",
      "source": [
        "class ResNet(tf.keras.Model):\n",
        "  def __init__(self):\n",
        "    super(ResNet,self).__init__()\n",
        "    self.conv1 = tf.keras.layers.Conv2D(8,(3,3),padding='same',activation='relu')\n",
        "\n",
        "    self.res1 = ResnetLayer(8,(16,16),(3,3)) \n",
        "    self.pool1 = tf.keras.layers.MaxPool2D((2,2))\n",
        "\n",
        "    self.res2 = ResnetLayer(16,(32,32),(3,3)) \n",
        "    self.pool2 = tf.keras.layers.MaxPool2D((2,2))\n",
        "\n",
        "    self.res3 = ResnetLayer(32,(64,64),(3,3))\n",
        "    self.flatten = tf.keras.layers.Flatten()\n",
        "    self.dense1 = tf.keras.layers.Dense(128,activation='relu')\n",
        "    self.dense2 = tf.keras.layers.Dense(10,activation='softmax')\n",
        "\n",
        "  def call(self,x,training=False,mask=None):\n",
        "    x = self.conv1(x)\n",
        "\n",
        "    x = self.res1(x,training=training)\n",
        "    x = self.pool1(x)\n",
        "    x = self.res2(x,training=training)\n",
        "    x = self.pool2(x)\n",
        "    x = self.res3(x,training=training)  \n",
        "\n",
        "    x = self.flatten(x)\n",
        "    x = self.dense1(x)\n",
        "\n",
        "    return self.dense2(x)\n"
      ],
      "metadata": {
        "id": "x4oiaanZ9IrX"
      },
      "execution_count": 26,
      "outputs": []
    },
    {
      "cell_type": "markdown",
      "source": [
        "#Train and Test"
      ],
      "metadata": {
        "id": "jDmQl6opiCh2"
      }
    },
    {
      "cell_type": "markdown",
      "source": [
        "## Dataset"
      ],
      "metadata": {
        "id": "oMbU7f1xiICH"
      }
    },
    {
      "cell_type": "code",
      "source": [
        "mnist = tf.keras.datasets.mnist\n",
        "\n",
        "(X_train,y_train),(X_test,y_test) = mnist.load_data()\n",
        "\n",
        "X_train, X_test = X_train / 255., X_test / 255.\n",
        "\n",
        "X_train = X_train[...,tf.newaxis].astype(np.float32)\n",
        "X_test = X_test[...,tf.newaxis].astype(np.float32)\n",
        "\n",
        "train_ds = tf.data.Dataset.from_tensor_slices((X_train,y_train)).shuffle(10000).batch(32)\n",
        "test_ds = tf.data.Dataset.from_tensor_slices((X_test,y_test)).batch(32)"
      ],
      "metadata": {
        "id": "KyOD85EliB8w"
      },
      "execution_count": 27,
      "outputs": []
    },
    {
      "cell_type": "markdown",
      "source": [
        "## 학습 환경 정의"
      ],
      "metadata": {
        "id": "Q4X6EVHji3kT"
      }
    },
    {
      "cell_type": "markdown",
      "source": [
        "### 모형 생성, 손실함수, 최적화, 평가지표"
      ],
      "metadata": {
        "id": "-scHHJeYi428"
      }
    },
    {
      "cell_type": "code",
      "source": [
        "model = ResNet() \n",
        "\n",
        "loss_object = tf.keras.losses.SparseCategoricalCrossentropy()\n",
        "optimizer = tf.keras.optimizers.Adam()\n",
        "\n",
        "train_loss = tf.keras.metrics.Mean(name='train_loss')\n",
        "train_accuracy = tf.keras.metrics.SparseCategoricalAccuracy(name='train_accuracy')\n",
        "\n",
        "test_loss = tf.keras.metrics.Mean(name='test_loss')\n",
        "test_accuracy = tf.keras.metrics.SparseCategoricalAccuracy(name='test_accuracy')"
      ],
      "metadata": {
        "id": "eA1kHIU1iqdT"
      },
      "execution_count": 28,
      "outputs": []
    },
    {
      "cell_type": "code",
      "source": [
        "@tf.function\n",
        "def train_step(model, images, labels, loss_object, optimizer, train_loss, train_accuracy):\n",
        "  with tf.GradientTape() as tape:\n",
        "    predictions = model(images,training=True) \n",
        "    loss = loss_object(labels, predictions)\n",
        "\n",
        "  gradients = tape.gradient(loss, model.trainable_variables)\n",
        "\n",
        "  optimizer.apply_gradients(zip(gradients,model.trainable_variables))\n",
        "  train_loss(loss)\n",
        "  train_accuracy(labels,predictions)\n",
        "\n",
        "@tf.function\n",
        "def test_step(model,images,labels,loss_object,test_loss,test_accuracy): \n",
        "  predictions = model(images,training=False)\n",
        "  \n",
        "  t_loss = loss_object(labels,predictions)\n",
        "  test_loss(t_loss)\n",
        "  test_accuracy(labels,predictions)\n"
      ],
      "metadata": {
        "id": "iVUjeBDajw9i"
      },
      "execution_count": 29,
      "outputs": []
    },
    {
      "cell_type": "markdown",
      "source": [
        "### 학습"
      ],
      "metadata": {
        "id": "Lgf7-rmojbwt"
      }
    },
    {
      "cell_type": "code",
      "source": [
        "for epoch in range(EPOCHS): \n",
        "  for images, labels in train_ds:\n",
        "    train_step(model, images, labels, loss_object, optimizer, train_loss, train_accuracy)\n",
        "\n",
        "  for test_images, test_labels in test_ds: \n",
        "    test_step(model, test_images, test_labels, loss_object, test_loss, test_accuracy)\n",
        "\n",
        "  template = 'Epoch {}, Loss : {}, Accuracy : {}, Test Loss : {}, Test Accuracy : {}'\n",
        "  print(template.format(epoch + 1, train_loss.result(), train_accuracy.result() * 100, test_loss.result(),\n",
        "                        test_accuracy.result() * 100))\n",
        "\n",
        "  train_loss.reset_states()\n",
        "  train_accuracy.reset_states()\n",
        "  test_loss.reset_states()\n",
        "  test_accuracy.reset_states()\n"
      ],
      "metadata": {
        "colab": {
          "base_uri": "https://localhost:8080/"
        },
        "id": "ZSQmXpk5jS2Y",
        "outputId": "8673d54b-81ed-42c2-d2eb-b7a0e5816e6f"
      },
      "execution_count": 30,
      "outputs": [
        {
          "output_type": "stream",
          "name": "stdout",
          "text": [
            "Epoch 1, Loss : 0.14186105132102966, Accuracy : 96.05166625976562, Test Loss : 0.05929366126656532, Test Accuracy : 98.25\n",
            "Epoch 2, Loss : 0.06797344237565994, Accuracy : 98.163330078125, Test Loss : 0.09493330866098404, Test Accuracy : 96.91000366210938\n",
            "Epoch 3, Loss : 0.04863991588354111, Accuracy : 98.63333129882812, Test Loss : 0.05782311409711838, Test Accuracy : 98.32999420166016\n",
            "Epoch 4, Loss : 0.038828469812870026, Accuracy : 98.91999816894531, Test Loss : 0.04827779904007912, Test Accuracy : 98.88999938964844\n",
            "Epoch 5, Loss : 0.03397541493177414, Accuracy : 99.00166320800781, Test Loss : 0.03204186260700226, Test Accuracy : 99.0199966430664\n",
            "Epoch 6, Loss : 0.029959412291646004, Accuracy : 99.16333770751953, Test Loss : 0.052017614245414734, Test Accuracy : 98.63999938964844\n",
            "Epoch 7, Loss : 0.026574017480015755, Accuracy : 99.25, Test Loss : 0.0369199700653553, Test Accuracy : 99.01000213623047\n",
            "Epoch 8, Loss : 0.02378990687429905, Accuracy : 99.33666229248047, Test Loss : 0.05241115018725395, Test Accuracy : 98.7699966430664\n",
            "Epoch 9, Loss : 0.02307732217013836, Accuracy : 99.34500122070312, Test Loss : 0.04499052092432976, Test Accuracy : 98.91999816894531\n",
            "Epoch 10, Loss : 0.018675217404961586, Accuracy : 99.46833038330078, Test Loss : 0.05847504362463951, Test Accuracy : 98.79999542236328\n"
          ]
        }
      ]
    }
  ]
}