{
  "nbformat": 4,
  "nbformat_minor": 0,
  "metadata": {
    "colab": {
      "provenance": [],
      "authorship_tag": "ABX9TyNTjESrevDyhIMT6IsLECQq",
      "include_colab_link": true
    },
    "kernelspec": {
      "name": "python3",
      "display_name": "Python 3"
    },
    "language_info": {
      "name": "python"
    },
    "accelerator": "GPU",
    "gpuClass": "standard"
  },
  "cells": [
    {
      "cell_type": "markdown",
      "metadata": {
        "id": "view-in-github",
        "colab_type": "text"
      },
      "source": [
        "<a href=\"https://colab.research.google.com/github/as9786/ComputerVision/blob/main/%EA%B8%B0%EB%B3%B8%ED%95%A9%EC%84%B1%EA%B3%B1%EC%8B%A0%EA%B2%BD%EB%A7%9D.ipynb\" target=\"_parent\"><img src=\"https://colab.research.google.com/assets/colab-badge.svg\" alt=\"Open In Colab\"/></a>"
      ]
    },
    {
      "cell_type": "markdown",
      "source": [
        "# 기본 합성곱 신경망 구현"
      ],
      "metadata": {
        "id": "_mMozQchg42y"
      }
    },
    {
      "cell_type": "code",
      "execution_count": 1,
      "metadata": {
        "id": "F98VISoNgzVd"
      },
      "outputs": [],
      "source": [
        "import tensorflow as tf\n",
        "import numpy as np"
      ]
    },
    {
      "cell_type": "markdown",
      "source": [
        "# 초매개변수"
      ],
      "metadata": {
        "id": "QoGZmMPug-9t"
      }
    },
    {
      "cell_type": "code",
      "source": [
        "EPOCHS = 10"
      ],
      "metadata": {
        "id": "Jv4hnAghg-cq"
      },
      "execution_count": 2,
      "outputs": []
    },
    {
      "cell_type": "markdown",
      "source": [
        "# 모형 정의"
      ],
      "metadata": {
        "id": "KzgAM7uKhBEu"
      }
    },
    {
      "cell_type": "code",
      "source": [
        "class ConvNet(tf.keras.Model):\n",
        "  def __init__(self):\n",
        "    super(ConvNet,self).__init__()\n",
        "    self.sequence = list()\n",
        "    self.sequence.append(tf.keras.layers.Conv2D(16,(3,3),padding='same',activation='relu')) # 28 x 28 x 16\n",
        "    self.sequence.append(tf.keras.layers.Conv2D(16,(3,3),padding='same',activation='relu'))\n",
        "    self.sequence.append(tf.keras.layers.MaxPool2D((2,2))) # 14 x 14 x 16\n",
        "    self.sequence.append(tf.keras.layers.Conv2D(32,(3,3),padding='same',activation='relu')) # 14 x 14 x 32\n",
        "    self.sequence.append(tf.keras.layers.Conv2D(32,(3,3),padding='same',activation='relu'))\n",
        "    self.sequence.append(tf.keras.layers.MaxPool2D((2,2))) # 7 x 7 x 32\n",
        "    self.sequence.append(tf.keras.layers.Conv2D(64,(3,3),padding='same',activation='relu')) # 7 x 7 x 64\n",
        "    self.sequence.append(tf.keras.layers.Conv2D(64,(3,3),padding='same',activation='relu'))\n",
        "    self.sequence.append(tf.keras.layers.Flatten())\n",
        "    self.sequence.append(tf.keras.layers.Dense(2048,activation='relu'))\n",
        "    self.sequence.append(tf.keras.layers.Dense(10,activation='softmax'))\n",
        "\n",
        "  def call(self,x,training=False,mask=None): # training이라는 인자는 후에 dropout과 같은 부분의 인자를 받기 위해 필요요\n",
        "    for layer in self.sequence:\n",
        "      x = layer(x)\n",
        "    return x"
      ],
      "metadata": {
        "id": "R99AvAdwhAqh"
      },
      "execution_count": 3,
      "outputs": []
    },
    {
      "cell_type": "markdown",
      "source": [
        "#Train and Test"
      ],
      "metadata": {
        "id": "jDmQl6opiCh2"
      }
    },
    {
      "cell_type": "markdown",
      "source": [
        "## Dataset"
      ],
      "metadata": {
        "id": "oMbU7f1xiICH"
      }
    },
    {
      "cell_type": "code",
      "source": [
        "mnist = tf.keras.datasets.mnist\n",
        "\n",
        "(X_train,y_train),(X_test,y_test) = mnist.load_data()\n",
        "\n",
        "X_train, X_test = X_train / 255., X_test / 255.\n",
        "\n",
        "X_train = X_train[...,tf.newaxis].astype(np.float32)\n",
        "X_test = X_test[...,tf.newaxis].astype(np.float32)\n",
        "\n",
        "train_ds = tf.data.Dataset.from_tensor_slices((X_train,y_train)).shuffle(10000).batch(32)\n",
        "test_ds = tf.data.Dataset.from_tensor_slices((X_test,y_test)).batch(32)"
      ],
      "metadata": {
        "colab": {
          "base_uri": "https://localhost:8080/"
        },
        "id": "KyOD85EliB8w",
        "outputId": "eb26ed34-89a5-4513-b4f9-c14f74963031"
      },
      "execution_count": 4,
      "outputs": [
        {
          "output_type": "stream",
          "name": "stdout",
          "text": [
            "Downloading data from https://storage.googleapis.com/tensorflow/tf-keras-datasets/mnist.npz\n",
            "11490434/11490434 [==============================] - 0s 0us/step\n"
          ]
        }
      ]
    },
    {
      "cell_type": "markdown",
      "source": [
        "## 학습 환경 정의"
      ],
      "metadata": {
        "id": "Q4X6EVHji3kT"
      }
    },
    {
      "cell_type": "markdown",
      "source": [
        "### 모형 생성, 손실함수, 최적화, 평가지표"
      ],
      "metadata": {
        "id": "-scHHJeYi428"
      }
    },
    {
      "cell_type": "code",
      "source": [
        "model = ConvNet() \n",
        "\n",
        "loss_object = tf.keras.losses.SparseCategoricalCrossentropy()\n",
        "optimizer = tf.keras.optimizers.Adam()\n",
        "\n",
        "train_loss = tf.keras.metrics.Mean(name='train_loss')\n",
        "train_accuracy = tf.keras.metrics.SparseCategoricalAccuracy(name='train_accuracy')\n",
        "\n",
        "test_loss = tf.keras.metrics.Mean(name='test_loss')\n",
        "test_accuracy = tf.keras.metrics.SparseCategoricalAccuracy(name='test_accuracy')"
      ],
      "metadata": {
        "id": "eA1kHIU1iqdT"
      },
      "execution_count": 5,
      "outputs": []
    },
    {
      "cell_type": "code",
      "source": [
        "@tf.function\n",
        "def train_step(model, images, labels, loss_object, optimizer, train_loss, train_accuracy):\n",
        "  with tf.GradientTape() as tape:\n",
        "    predictions = model(images) \n",
        "    loss = loss_object(labels, predictions)\n",
        "\n",
        "  gradients = tape.gradient(loss, model.trainable_variables)\n",
        "\n",
        "  optimizer.apply_gradients(zip(gradients,model.trainable_variables))\n",
        "  train_loss(loss)\n",
        "  train_accuracy(labels,predictions)\n",
        "\n",
        "@tf.function\n",
        "def test_step(model,images,labels,loss_object,test_loss,test_accuracy): \n",
        "  predictions = model(images)\n",
        "  \n",
        "  t_loss = loss_object(labels,predictions)\n",
        "  test_loss(t_loss)\n",
        "  test_accuracy(labels,predictions)\n"
      ],
      "metadata": {
        "id": "iVUjeBDajw9i"
      },
      "execution_count": 6,
      "outputs": []
    },
    {
      "cell_type": "markdown",
      "source": [
        "### 학습"
      ],
      "metadata": {
        "id": "Lgf7-rmojbwt"
      }
    },
    {
      "cell_type": "code",
      "source": [
        "for epoch in range(EPOCHS): \n",
        "  for images, labels in train_ds:\n",
        "    train_step(model, images, labels, loss_object, optimizer, train_loss, train_accuracy)\n",
        "\n",
        "  for test_images, test_labels in test_ds: \n",
        "    test_step(model, test_images, test_labels, loss_object, test_loss, test_accuracy)\n",
        "\n",
        "  template = 'Epoch {}, Loss : {}, Accuracy : {}, Test Loss : {}, Test Accuracy : {}'\n",
        "  print(template.format(epoch + 1, train_loss.result(), train_accuracy.result() * 100, test_loss.result(),\n",
        "                        test_accuracy.result() * 100))\n",
        "\n",
        "  train_loss.reset_states()\n",
        "  train_accuracy.reset_states()\n",
        "  test_loss.reset_states()\n",
        "  test_accuracy.reset_states()\n"
      ],
      "metadata": {
        "colab": {
          "base_uri": "https://localhost:8080/"
        },
        "id": "ZSQmXpk5jS2Y",
        "outputId": "df4e2919-fe93-412c-abe2-1108c2082c97"
      },
      "execution_count": 7,
      "outputs": [
        {
          "output_type": "stream",
          "name": "stdout",
          "text": [
            "Epoch 1, Loss : 0.11389899253845215, Accuracy : 96.55667114257812, Test Loss : 0.061018362641334534, Test Accuracy : 98.2699966430664\n",
            "Epoch 2, Loss : 0.04620257392525673, Accuracy : 98.62667083740234, Test Loss : 0.03478148207068443, Test Accuracy : 98.98999786376953\n",
            "Epoch 3, Loss : 0.03385720029473305, Accuracy : 98.95832824707031, Test Loss : 0.03542362153530121, Test Accuracy : 98.8499984741211\n",
            "Epoch 4, Loss : 0.0276486836373806, Accuracy : 99.19000244140625, Test Loss : 0.030106758698821068, Test Accuracy : 99.08999633789062\n",
            "Epoch 5, Loss : 0.024283550679683685, Accuracy : 99.22833251953125, Test Loss : 0.033690840005874634, Test Accuracy : 99.11000061035156\n",
            "Epoch 6, Loss : 0.01996949501335621, Accuracy : 99.37999725341797, Test Loss : 0.026677360758185387, Test Accuracy : 99.36000061035156\n",
            "Epoch 7, Loss : 0.018087811768054962, Accuracy : 99.46333312988281, Test Loss : 0.03065625950694084, Test Accuracy : 99.13999938964844\n",
            "Epoch 8, Loss : 0.015954812988638878, Accuracy : 99.5233383178711, Test Loss : 0.038059528917074203, Test Accuracy : 99.05999755859375\n",
            "Epoch 9, Loss : 0.017329247668385506, Accuracy : 99.50833129882812, Test Loss : 0.04272981360554695, Test Accuracy : 99.0199966430664\n",
            "Epoch 10, Loss : 0.014287805184721947, Accuracy : 99.58999633789062, Test Loss : 0.03156060352921486, Test Accuracy : 99.18000030517578\n"
          ]
        }
      ]
    },
    {
      "cell_type": "code",
      "source": [],
      "metadata": {
        "id": "PWaHrY06lw4F"
      },
      "execution_count": 7,
      "outputs": []
    }
  ]
}