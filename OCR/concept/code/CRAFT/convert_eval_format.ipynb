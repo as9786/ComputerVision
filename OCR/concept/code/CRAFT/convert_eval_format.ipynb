{
 "cells": [
  {
   "cell_type": "code",
   "execution_count": 137,
   "metadata": {},
   "outputs": [],
   "source": [
    "import pandas as pd \n",
    "import json \n",
    "from glob import glob"
   ]
  },
  {
   "cell_type": "code",
   "execution_count": 138,
   "metadata": {},
   "outputs": [
    {
     "data": {
      "text/plain": [
       "['/workspace/ojt/OCR/CRAFT-pytorch/result/res_008b1a0b-2a55-2054-f3bb-fd20f5b69628.txt',\n",
       " '/workspace/ojt/OCR/CRAFT-pytorch/result/res_0de9fdab-1873-a95d-7ebe-19aae551a32d.txt',\n",
       " '/workspace/ojt/OCR/CRAFT-pytorch/result/res_1d99d954-8082-594d-4cb1-eba581e8caef.txt',\n",
       " '/workspace/ojt/OCR/CRAFT-pytorch/result/res_bd036c86-e028-cdbd-e06a-a37f1162816d.txt',\n",
       " '/workspace/ojt/OCR/CRAFT-pytorch/result/res_db4aac6f-0810-0df6-92fa-62cbd1b7cebb.txt']"
      ]
     },
     "execution_count": 138,
     "metadata": {},
     "output_type": "execute_result"
    }
   ],
   "source": [
    "results = sorted(glob('/workspace/ojt/OCR/CRAFT-pytorch/result/*.txt'))[:5]\n",
    "results"
   ]
  },
  {
   "cell_type": "code",
   "execution_count": 166,
   "metadata": {},
   "outputs": [],
   "source": [
    "with open(results[4]) as f:\n",
    "    sample = f.readlines()"
   ]
  },
  {
   "cell_type": "code",
   "execution_count": 167,
   "metadata": {},
   "outputs": [
    {
     "data": {
      "text/plain": [
       "'db4aac6f-0810-0df6-92fa-62cbd1b7cebb.jpg'"
      ]
     },
     "execution_count": 167,
     "metadata": {},
     "output_type": "execute_result"
    }
   ],
   "source": [
    "name = results[4].split('/')[-1].replace('txt','jpg')[4:]\n",
    "name"
   ]
  },
  {
   "cell_type": "code",
   "execution_count": 141,
   "metadata": {},
   "outputs": [
    {
     "data": {
      "text/plain": [
       "{'images': {}}"
      ]
     },
     "execution_count": 141,
     "metadata": {},
     "output_type": "execute_result"
    }
   ],
   "source": [
    "new_dict = {'images':{}}\n",
    "new_dict"
   ]
  },
  {
   "cell_type": "code",
   "execution_count": 168,
   "metadata": {},
   "outputs": [],
   "source": [
    "new_dict['images'][name] = {}"
   ]
  },
  {
   "cell_type": "code",
   "execution_count": 169,
   "metadata": {},
   "outputs": [
    {
     "data": {
      "text/plain": [
       "'db4aac6f-0810-0df6-92fa-62cbd1b7cebb.jpg'"
      ]
     },
     "execution_count": 169,
     "metadata": {},
     "output_type": "execute_result"
    }
   ],
   "source": [
    "x = list(new_dict['images'].keys())[4]\n",
    "x"
   ]
  },
  {
   "cell_type": "code",
   "execution_count": 170,
   "metadata": {},
   "outputs": [],
   "source": [
    "new_dict['images'][x]['words'] = {}"
   ]
  },
  {
   "cell_type": "code",
   "execution_count": 171,
   "metadata": {},
   "outputs": [],
   "source": [
    "j = 0\n",
    "\n",
    "for i in sample:\n",
    "    new_dict['images'][x]['words'][str(j)] = {}\n",
    "    \n",
    "    points = i.strip().split(',')\n",
    "    tl = [int(points[0]), int(points[1])]\n",
    "    tr = [int(points[2]), int(points[3])]\n",
    "    br = [int(points[4]), int(points[5])]\n",
    "    bl = [int(points[6]), int(points[7])]\n",
    "\n",
    "    point = [tl, tr, tr,bl]\n",
    "    new_dict['images'][x]['words'][str(j)]['points'] = point\n",
    "    \n",
    "    j += 1"
   ]
  },
  {
   "cell_type": "code",
   "execution_count": 172,
   "metadata": {},
   "outputs": [
    {
     "data": {
      "text/plain": [
       "dict_keys(['008b1a0b-2a55-2054-f3bb-fd20f5b69628.jpg', '0de9fdab-1873-a95d-7ebe-19aae551a32d.jpg', '1d99d954-8082-594d-4cb1-eba581e8caef.jpg', 'bd036c86-e028-cdbd-e06a-a37f1162816d.jpg', 'db4aac6f-0810-0df6-92fa-62cbd1b7cebb.jpg'])"
      ]
     },
     "execution_count": 172,
     "metadata": {},
     "output_type": "execute_result"
    }
   ],
   "source": [
    "new_dict['images'].keys()"
   ]
  },
  {
   "cell_type": "code",
   "execution_count": 173,
   "metadata": {},
   "outputs": [],
   "source": [
    "with open('/workspace/ojt/OCR/dataset/infer_final/preds.json', 'w') as f:\n",
    "    json.dump(new_dict,f)"
   ]
  },
  {
   "cell_type": "code",
   "execution_count": 174,
   "metadata": {},
   "outputs": [],
   "source": [
    "precision = 0.6027855153203345\n",
    "recall = 0.7436419125127167"
   ]
  },
  {
   "cell_type": "code",
   "execution_count": 175,
   "metadata": {},
   "outputs": [
    {
     "data": {
      "text/plain": [
       "0.6658458735785026"
      ]
     },
     "execution_count": 175,
     "metadata": {},
     "output_type": "execute_result"
    }
   ],
   "source": [
    "f1 = 2 * ((precision * recall) / (precision + recall))\n",
    "f1"
   ]
  },
  {
   "cell_type": "code",
   "execution_count": null,
   "metadata": {},
   "outputs": [],
   "source": []
  }
 ],
 "metadata": {
  "kernelspec": {
   "display_name": "EAST",
   "language": "python",
   "name": "python3"
  },
  "language_info": {
   "codemirror_mode": {
    "name": "ipython",
    "version": 3
   },
   "file_extension": ".py",
   "mimetype": "text/x-python",
   "name": "python",
   "nbconvert_exporter": "python",
   "pygments_lexer": "ipython3",
   "version": "3.8.undefined"
  }
 },
 "nbformat": 4,
 "nbformat_minor": 2
}
