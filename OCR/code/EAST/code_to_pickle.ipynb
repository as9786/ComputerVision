{
 "cells": [
  {
   "cell_type": "code",
   "execution_count": 1,
   "metadata": {},
   "outputs": [],
   "source": [
    "import pickle\n",
    "from tqdm import tqdm\n",
    "import os\n",
    "import os.path as osp\n",
    "\n",
    "from east_dataset import EASTDataset\n",
    "from dataset import SceneTextDataset\n",
    "\n",
    "import albumentations as A"
   ]
  },
  {
   "cell_type": "code",
   "execution_count": 2,
   "metadata": {},
   "outputs": [],
   "source": [
    "data_dir = '/workspace/ojt/OCR/dataset/data/all'"
   ]
  },
  {
   "cell_type": "code",
   "execution_count": 3,
   "metadata": {},
   "outputs": [],
   "source": [
    "ignore_tags = ['masked', 'excluded-region', 'maintable', 'stamp']"
   ]
  },
  {
   "cell_type": "code",
   "execution_count": 4,
   "metadata": {},
   "outputs": [],
   "source": [
    "image_size = [2048]\n",
    "crop_size = [1024]"
   ]
  },
  {
   "cell_type": "code",
   "execution_count": 5,
   "metadata": {},
   "outputs": [],
   "source": [
    "pkl_dir = f'pickle/{image_size}_cs{crop_size}/train/'"
   ]
  },
  {
   "cell_type": "code",
   "execution_count": 6,
   "metadata": {},
   "outputs": [],
   "source": [
    "os.makedirs(osp.join(data_dir, pkl_dir), exist_ok=True)"
   ]
  },
  {
   "cell_type": "code",
   "execution_count": 7,
   "metadata": {},
   "outputs": [
    {
     "name": "stderr",
     "output_type": "stream",
     "text": [
      "100%|██████████| 1680/1680 [22:17<00:00,  1.26it/s]\n"
     ]
    }
   ],
   "source": [
    "for i, i_size in enumerate(image_size):\n",
    "    for j, c_size in enumerate(crop_size):\n",
    "        if c_size > i_size:\n",
    "            continue\n",
    "        train_dataset = SceneTextDataset(\n",
    "                root_dir=data_dir,\n",
    "                split='train',\n",
    "                image_size=i_size,\n",
    "                crop_size=c_size,\n",
    "                ignore_tags=ignore_tags,\n",
    "                color_jitter=False,\n",
    "                normalize=True\n",
    "            )\n",
    "        train_dataset = EASTDataset(train_dataset)\n",
    "\n",
    "        ds = len(train_dataset)\n",
    "        for k in tqdm(range(ds)):\n",
    "            data = train_dataset.__getitem__(k)\n",
    "            with open(file=osp.join(data_dir, pkl_dir, f\"{ds*i+ds*j+k}.pkl\"), mode=\"wb\") as f:\n",
    "                pickle.dump(data, f)"
   ]
  },
  {
   "cell_type": "code",
   "execution_count": null,
   "metadata": {},
   "outputs": [],
   "source": []
  }
 ],
 "metadata": {
  "kernelspec": {
   "display_name": "EAST",
   "language": "python",
   "name": "python3"
  },
  "language_info": {
   "codemirror_mode": {
    "name": "ipython",
    "version": 3
   },
   "file_extension": ".py",
   "mimetype": "text/x-python",
   "name": "python",
   "nbconvert_exporter": "python",
   "pygments_lexer": "ipython3",
   "version": "3.8.19"
  }
 },
 "nbformat": 4,
 "nbformat_minor": 2
}
