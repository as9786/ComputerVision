{
 "cells": [
  {
   "cell_type": "markdown",
   "metadata": {},
   "source": [
    "# Module"
   ]
  },
  {
   "cell_type": "code",
   "execution_count": 1,
   "metadata": {},
   "outputs": [],
   "source": [
    "from glob import glob\n",
    "import matplotlib.pyplot as plt\n",
    "from PIL import Image\n",
    "import cv2\n",
    "import numpy as np\n",
    "from tqdm import tqdm\n",
    "import os\n",
    "\n",
    "from ultralytics import YOLO"
   ]
  },
  {
   "cell_type": "markdown",
   "metadata": {},
   "source": [
    "# 경로"
   ]
  },
  {
   "cell_type": "code",
   "execution_count": 3,
   "metadata": {},
   "outputs": [],
   "source": [
    "imgs = sorted(glob('/workspace/ojt/OCR/dataset/infer_final/image/*'))"
   ]
  },
  {
   "cell_type": "markdown",
   "metadata": {},
   "source": [
    "# 모형"
   ]
  },
  {
   "cell_type": "code",
   "execution_count": 5,
   "metadata": {},
   "outputs": [],
   "source": [
    "model = YOLO('/workspace/ojt/OCR/YOLO/runs/detect/best_yolov8n_add/weights/best.pt')"
   ]
  },
  {
   "cell_type": "markdown",
   "metadata": {},
   "source": [
    "# 추론"
   ]
  },
  {
   "cell_type": "code",
   "execution_count": 6,
   "metadata": {},
   "outputs": [
    {
     "name": "stdout",
     "output_type": "stream",
     "text": [
      "\n"
     ]
    },
    {
     "name": "stderr",
     "output_type": "stream",
     "text": [
      "/root/miniconda3/envs/yolo/lib/python3.8/site-packages/torch/nn/modules/conv.py:456: UserWarning: Applied workaround for CuDNN issue, install nvrtc.so (Triggered internally at /opt/conda/conda-bld/pytorch_1716905971873/work/aten/src/ATen/native/cudnn/Conv_v8.cpp:84.)\n",
      "  return F.conv2d(input, weight, bias, self.stride,\n"
     ]
    },
    {
     "name": "stdout",
     "output_type": "stream",
     "text": [
      "0: 4096x4096 42 Texts, 20.0ms\n",
      "1: 4096x4096 220 Texts, 20.0ms\n",
      "2: 4096x4096 298 Texts, 20.0ms\n",
      "3: 4096x4096 132 Texts, 20.0ms\n",
      "4: 4096x4096 300 Texts, 20.0ms\n",
      "Speed: 59.9ms preprocess, 20.0ms inference, 12.6ms postprocess per image at shape (1, 3, 4096, 4096)\n"
     ]
    }
   ],
   "source": [
    "#results = model(imgs)\n",
    "results = model(imgs)"
   ]
  },
  {
   "cell_type": "markdown",
   "metadata": {},
   "source": [
    "# 시각화"
   ]
  },
  {
   "cell_type": "code",
   "execution_count": null,
   "metadata": {},
   "outputs": [],
   "source": [
    "im_bgr = results[4].plot(labels=False)  # BGR-order numpy array\n",
    "im_rgb = Image.fromarray(im_bgr[..., ::-1])  # RGB-order PIL image\n",
    "im_rgb"
   ]
  },
  {
   "cell_type": "code",
   "execution_count": 7,
   "metadata": {},
   "outputs": [],
   "source": [
    "# Visualize the results\n",
    "for i, r in enumerate(results):\n",
    "    # Plot results image\n",
    "    im_bgr = r.plot(labels=False)  # BGR-order numpy array\n",
    "    im_rgb = Image.fromarray(im_bgr[..., ::-1])  # RGB-order PIL image\n",
    "\n",
    "    # Save results to disk\n",
    "    r.save(filename=f\"/workspace/ojt/OCR/dataset/infer_final/detect_result/result3{i+1}.jpg\",labels=False)\n",
    "  "
   ]
  },
  {
   "cell_type": "markdown",
   "metadata": {},
   "source": [
    "# Create text recognition dataset"
   ]
  },
  {
   "cell_type": "code",
   "execution_count": 28,
   "metadata": {},
   "outputs": [],
   "source": [
    "for i in range(1):\n",
    "    boxes = results[i].boxes.xyxy.cpu().numpy()\n",
    "    sample = cv2.imread(imgs[i])\n",
    "    sample = cv2.cvtColor(sample, cv2.COLOR_BGR2RGB)\n",
    "    name = imgs[i].split('/')[-1][:-4]\n",
    "\n",
    "    for j in range(len(boxes)):\n",
    "        min_x, min_y, max_x, max_y = int(boxes[j][1]), int(boxes[j][0]), int(boxes[j][3]), int(boxes[j][2])\n",
    "        patch = sample[min_x : max_x + 1, min_y : max_y + 1,:]\n",
    "        cv2.imwrite(f'/workspace/ojt/OCR/dataset/infer/text_data/{name}_text_{j+1}.png', patch)"
   ]
  }
 ],
 "metadata": {
  "kernelspec": {
   "display_name": "yolo",
   "language": "python",
   "name": "python3"
  },
  "language_info": {
   "codemirror_mode": {
    "name": "ipython",
    "version": 3
   },
   "file_extension": ".py",
   "mimetype": "text/x-python",
   "name": "python",
   "nbconvert_exporter": "python",
   "pygments_lexer": "ipython3",
   "version": "3.8.19"
  }
 },
 "nbformat": 4,
 "nbformat_minor": 2
}
