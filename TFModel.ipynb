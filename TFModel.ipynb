{
  "nbformat": 4,
  "nbformat_minor": 0,
  "metadata": {
    "colab": {
      "provenance": [],
      "collapsed_sections": [],
      "mount_file_id": "1rH_T_Cq1L0W2PuLKHwoBCyux9pMa02_E",
      "authorship_tag": "ABX9TyO/oIL+Wwe84e+w1rXm4YWL",
      "include_colab_link": true
    },
    "kernelspec": {
      "name": "python3",
      "display_name": "Python 3"
    },
    "language_info": {
      "name": "python"
    },
    "accelerator": "GPU"
  },
  "cells": [
    {
      "cell_type": "markdown",
      "metadata": {
        "id": "view-in-github",
        "colab_type": "text"
      },
      "source": [
        "<a href=\"https://colab.research.google.com/github/as9786/ComputerVision/blob/main/TFModel.ipynb\" target=\"_parent\"><img src=\"https://colab.research.google.com/assets/colab-badge.svg\" alt=\"Open In Colab\"/></a>"
      ]
    },
    {
      "cell_type": "code",
      "execution_count": null,
      "metadata": {
        "id": "gtkFTQ6iof_W"
      },
      "outputs": [],
      "source": [
        "from tensorflow import keras\n",
        "from tensorflow.keras import layers\n",
        "from tensorflow.keras import activations\n",
        "\n",
        "import os\n",
        "os.environ['CUDA_VISIBLE_DEVICES'] = '1'"
      ]
    },
    {
      "cell_type": "code",
      "source": [
        "def get_sequential_model(input_shape):\n",
        "\n",
        "    model = keras.Sequential(\n",
        "        [\n",
        "            #Input\n",
        "            layers.Input(input_shape),\n",
        "\n",
        "            # 1st Conv block\n",
        "            layers.Conv2D(64,3,strides=1,activation='relu',padding='same'),\n",
        "            layers.Conv2D(64,3,strides=1,activation='relu',padding='same'),\n",
        "            layers.MaxPool2D(),\n",
        "            layers.BatchNormalization(),\n",
        "            layers.Dropout(0.5),\n",
        "\n",
        "            # 2nd Conv block\n",
        "            layers.Conv2D(128,3,strides=1,activation='relu',padding='same'),\n",
        "            layers.Conv2D(128,3,strides=1,activation='relu',padding='same'),\n",
        "            layers.MaxPool2D(),\n",
        "            layers.BatchNormalization(),\n",
        "            layers.Dropout(0.3),\n",
        "\n",
        "            #Classifier\n",
        "            layers.GlobalMaxPool2D(),\n",
        "            layers.Dense(128,activation='relu'),\n",
        "            layers.Dense(1,activation='sigmoid')\n",
        "        ]\n",
        "    )\n",
        "\n",
        "    return model"
      ],
      "metadata": {
        "id": "Jk7G96zVoteL"
      },
      "execution_count": null,
      "outputs": []
    },
    {
      "cell_type": "code",
      "source": [
        "input_shape = (256,256,3)\n",
        "model = get_sequential_model(input_shape)"
      ],
      "metadata": {
        "id": "4AgG5nlEpsw4"
      },
      "execution_count": null,
      "outputs": []
    },
    {
      "cell_type": "code",
      "source": [
        "model.summary()"
      ],
      "metadata": {
        "colab": {
          "base_uri": "https://localhost:8080/"
        },
        "id": "yq8b4PD0pyp3",
        "outputId": "0f377e91-5a5d-4e58-fc50-635281cbf0ec"
      },
      "execution_count": null,
      "outputs": [
        {
          "output_type": "stream",
          "name": "stdout",
          "text": [
            "Model: \"sequential\"\n",
            "_________________________________________________________________\n",
            " Layer (type)                Output Shape              Param #   \n",
            "=================================================================\n",
            " conv2d_1 (Conv2D)           (None, 256, 256, 64)      1792      \n",
            "                                                                 \n",
            " conv2d_2 (Conv2D)           (None, 256, 256, 64)      36928     \n",
            "                                                                 \n",
            " max_pooling2d (MaxPooling2D  (None, 128, 128, 64)     0         \n",
            " )                                                               \n",
            "                                                                 \n",
            " batch_normalization (BatchN  (None, 128, 128, 64)     256       \n",
            " ormalization)                                                   \n",
            "                                                                 \n",
            " dropout (Dropout)           (None, 128, 128, 64)      0         \n",
            "                                                                 \n",
            " conv2d_3 (Conv2D)           (None, 128, 128, 128)     73856     \n",
            "                                                                 \n",
            " conv2d_4 (Conv2D)           (None, 128, 128, 128)     147584    \n",
            "                                                                 \n",
            " max_pooling2d_1 (MaxPooling  (None, 64, 64, 128)      0         \n",
            " 2D)                                                             \n",
            "                                                                 \n",
            " batch_normalization_1 (Batc  (None, 64, 64, 128)      512       \n",
            " hNormalization)                                                 \n",
            "                                                                 \n",
            " dropout_1 (Dropout)         (None, 64, 64, 128)       0         \n",
            "                                                                 \n",
            " global_max_pooling2d (Globa  (None, 128)              0         \n",
            " lMaxPooling2D)                                                  \n",
            "                                                                 \n",
            " dense (Dense)               (None, 128)               16512     \n",
            "                                                                 \n",
            " dense_1 (Dense)             (None, 1)                 129       \n",
            "                                                                 \n",
            "=================================================================\n",
            "Total params: 277,569\n",
            "Trainable params: 277,185\n",
            "Non-trainable params: 384\n",
            "_________________________________________________________________\n"
          ]
        }
      ]
    },
    {
      "cell_type": "markdown",
      "source": [
        "# Functional"
      ],
      "metadata": {
        "id": "Ui5OTiybp6zv"
      }
    },
    {
      "cell_type": "code",
      "source": [
        "def get_functional_model(input_shape):\n",
        "    \n",
        "    inputs = keras.Input(input_shape)\n",
        "    # 1st Conv block\n",
        "    x = layers.Conv2D(64,3,strides=1,activation='relu',padding='same')(inputs)\n",
        "    x = layers.Conv2D(64,3,strides=1,activation='relu',padding='same')(x)\n",
        "    x = layers.MaxPool2D()(x)\n",
        "    x = layers.BatchNormalization()(x)\n",
        "    x = layers.Dropout(0.5)(x)\n",
        "\n",
        "    # 2nd Conv block\n",
        "    x = layers.Conv2D(128,3,strides=1,activation='relu',padding='same')(x)\n",
        "    x = layers.Conv2D(128,3,strides=1,activation='relu',padding='same')(x)\n",
        "    x = layers.MaxPool2D()(x)\n",
        "    x = layers.BatchNormalization()(x)\n",
        "    x = layers.Dropout(0.3)(x)\n",
        "\n",
        "    #Classifier\n",
        "    x = layers.GlobalMaxPool2D()(x)\n",
        "    x = layers.Dense(128,activation='relu')(x)\n",
        "    outputs = layers.Dense(1,activation='sigmoid')(x)\n",
        "\n",
        "    model = keras.Model(inputs,outputs)\n",
        "\n",
        "    return model\n"
      ],
      "metadata": {
        "id": "laZDkWbJp2lV"
      },
      "execution_count": null,
      "outputs": []
    },
    {
      "cell_type": "code",
      "source": [
        "input_shape = (256,256,3)\n",
        "model = get_functional_model(input_shape)\n",
        "\n",
        "model.summary()"
      ],
      "metadata": {
        "colab": {
          "base_uri": "https://localhost:8080/"
        },
        "id": "THtnOLPRqaC8",
        "outputId": "e2178027-aa32-4c24-c29b-557ca8698a87"
      },
      "execution_count": null,
      "outputs": [
        {
          "output_type": "stream",
          "name": "stdout",
          "text": [
            "Model: \"model\"\n",
            "_________________________________________________________________\n",
            " Layer (type)                Output Shape              Param #   \n",
            "=================================================================\n",
            " input_3 (InputLayer)        [(None, 256, 256, 3)]     0         \n",
            "                                                                 \n",
            " conv2d_5 (Conv2D)           (None, 256, 256, 64)      1792      \n",
            "                                                                 \n",
            " conv2d_6 (Conv2D)           (None, 256, 256, 64)      36928     \n",
            "                                                                 \n",
            " max_pooling2d_2 (MaxPooling  (None, 128, 128, 64)     0         \n",
            " 2D)                                                             \n",
            "                                                                 \n",
            " batch_normalization_2 (Batc  (None, 128, 128, 64)     256       \n",
            " hNormalization)                                                 \n",
            "                                                                 \n",
            " dropout_2 (Dropout)         (None, 128, 128, 64)      0         \n",
            "                                                                 \n",
            " conv2d_7 (Conv2D)           (None, 128, 128, 128)     73856     \n",
            "                                                                 \n",
            " conv2d_8 (Conv2D)           (None, 128, 128, 128)     147584    \n",
            "                                                                 \n",
            " max_pooling2d_3 (MaxPooling  (None, 64, 64, 128)      0         \n",
            " 2D)                                                             \n",
            "                                                                 \n",
            " batch_normalization_3 (Batc  (None, 64, 64, 128)      512       \n",
            " hNormalization)                                                 \n",
            "                                                                 \n",
            " dropout_3 (Dropout)         (None, 64, 64, 128)       0         \n",
            "                                                                 \n",
            " global_max_pooling2d_1 (Glo  (None, 128)              0         \n",
            " balMaxPooling2D)                                                \n",
            "                                                                 \n",
            " dense_2 (Dense)             (None, 128)               16512     \n",
            "                                                                 \n",
            " dense_3 (Dense)             (None, 1)                 129       \n",
            "                                                                 \n",
            "=================================================================\n",
            "Total params: 277,569\n",
            "Trainable params: 277,185\n",
            "Non-trainable params: 384\n",
            "_________________________________________________________________\n"
          ]
        }
      ]
    },
    {
      "cell_type": "markdown",
      "source": [
        "# Model subclassing"
      ],
      "metadata": {
        "id": "0o60tUZDqfpv"
      }
    },
    {
      "cell_type": "code",
      "source": [
        "class SimpleCNN(keras.Model):\n",
        "    def __init__(self):\n",
        "        super(SimpleCNN,self).__init__()\n",
        "\n",
        "        self.conv_block1 = keras.Sequential(\n",
        "            [\n",
        "                layers.Conv2D(64,3,strides=1,activation='relu',padding='same'),\n",
        "                layers.Conv2D(64,3,strides=1,activation='relu',padding='same'),\n",
        "                layers.MaxPool2D(),\n",
        "                layers.BatchNormalization(),\n",
        "                layers.Dropout(0.5)      \n",
        "            ],name='conv_block_1'\n",
        "        )\n",
        "\n",
        "        self.conv_block2 = keras.Sequential(\n",
        "            [\n",
        "                layers.Conv2D(128,3,strides=1,activation='relu',padding='same'),\n",
        "                layers.Conv2D(128,3,strides=1,activation='relu',padding='same'),\n",
        "                layers.MaxPool2D(),\n",
        "                layers.BatchNormalization(),\n",
        "                layers.Dropout(0.3)\n",
        "            ],name='conv_block_2'\n",
        "        )\n",
        "\n",
        "        self.classifier = keras.Sequential(\n",
        "            [\n",
        "                layers.GlobalMaxPool2D(),\n",
        "                layers.Dense(128,activation='relu'),\n",
        "                layers.Dense(1,activation='sigmoid')\n",
        "            ],name='classifier'\n",
        "        )\n",
        "\n",
        "    def call(self,input_tensor,training=False):\n",
        "        x = self.conv_block1(input_tensor)\n",
        "        x = self.conv_block2(x)\n",
        "        x = self.classifier(x)\n",
        "\n",
        "        return x"
      ],
      "metadata": {
        "id": "Nh6fNpRBqc5N"
      },
      "execution_count": null,
      "outputs": []
    },
    {
      "cell_type": "code",
      "source": [
        "input_shape = (None,256,256,3)\n",
        "model = SimpleCNN()\n",
        "model.build(input_shape)\n",
        "\n",
        "model.summary()"
      ],
      "metadata": {
        "colab": {
          "base_uri": "https://localhost:8080/"
        },
        "id": "o05wsV-LrXbA",
        "outputId": "2a33282c-7879-4396-97c6-e11f85862936"
      },
      "execution_count": null,
      "outputs": [
        {
          "output_type": "stream",
          "name": "stdout",
          "text": [
            "Model: \"simple_cnn\"\n",
            "_________________________________________________________________\n",
            " Layer (type)                Output Shape              Param #   \n",
            "=================================================================\n",
            " conv_block_1 (Sequential)   (None, 128, 128, 64)      38976     \n",
            "                                                                 \n",
            " conv_block_2 (Sequential)   (None, 64, 64, 128)       221952    \n",
            "                                                                 \n",
            " classifier (Sequential)     (None, 1)                 16641     \n",
            "                                                                 \n",
            "=================================================================\n",
            "Total params: 277,569\n",
            "Trainable params: 277,185\n",
            "Non-trainable params: 384\n",
            "_________________________________________________________________\n"
          ]
        }
      ]
    },
    {
      "cell_type": "markdown",
      "source": [
        "block을 하나의 layer로 생각"
      ],
      "metadata": {
        "id": "t6IrsXQFrh-s"
      }
    },
    {
      "cell_type": "markdown",
      "source": [
        "# Model compiling"
      ],
      "metadata": {
        "id": "cPCSrz6nrlFC"
      }
    },
    {
      "cell_type": "code",
      "source": [
        "model.compile(\n",
        "    optimizer='adam',\n",
        "    loss='binary_crossentropy',\n",
        "    metrics=['accuracy']\n",
        ")"
      ],
      "metadata": {
        "id": "NiPFiVsyrenP"
      },
      "execution_count": null,
      "outputs": []
    },
    {
      "cell_type": "code",
      "source": [],
      "metadata": {
        "id": "rtuvoyoXrt2B"
      },
      "execution_count": null,
      "outputs": []
    }
  ]
}